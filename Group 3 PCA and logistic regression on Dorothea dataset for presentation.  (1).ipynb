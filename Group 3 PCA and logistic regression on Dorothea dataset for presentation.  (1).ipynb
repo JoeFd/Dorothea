{
 "cells": [
  {
   "cell_type": "markdown",
   "metadata": {},
   "source": [
    "# Analysis of the Dorothea dataset Group 3\n",
    "# UFMFGQ-15-M Data Analysis for Engineers \n",
    "## by Paul Trimble.\n",
    "This notebook is my data analysis process as applied to the Dorothea_smaller dataset. Initial data exploration has already been conducted, indicating a sparse binary dataset of a matrix of 800x10001. "
   ]
  },
  {
   "cell_type": "markdown",
   "metadata": {},
   "source": [
    "My first action was to import the libaries that are required throughout this analysis, specifically pandas for data handling, \n",
    "numpy for basic mathmatical functions, and skleran, or scikit-learn, for machine learning.  "
   ]
  },
  {
   "cell_type": "code",
   "execution_count": 1,
   "metadata": {},
   "outputs": [],
   "source": [
    "#library imports\n",
    "import pandas as pd\n",
    "import numpy as np\n",
    "\n",
    "from sklearn.decomposition import PCA as sklearnPCA\n",
    "from sklearn import linear_model\n",
    "from sklearn.model_selection import train_test_split\n",
    "import sklearn.pipeline as skpl\n",
    "import matplotlib.pyplot as plt\n"
   ]
  },
  {
   "cell_type": "markdown",
   "metadata": {},
   "source": [
    "I then uploaded the dataset, and assigned 'X, y' to allow us to keep the numbered columns during the test train split. "
   ]
  },
  {
   "cell_type": "code",
   "execution_count": 2,
   "metadata": {},
   "outputs": [],
   "source": [
    "data = pd.read_csv(\"Datasets/dorothea_smaller.csv\")\n",
    "X, y = data.iloc[:,0:-1], data.iloc[:,-1]"
   ]
  },
  {
   "cell_type": "markdown",
   "metadata": {},
   "source": [
    "To perserve the integrity of the dataset, I performed a test data split, on a standardised 70/30 split generated from a random selection. \n",
    "The test train split is accessed via the sklearn library, and the coding example is from Python for Data Science, Page 355. "
   ]
  },
  {
   "cell_type": "code",
   "execution_count": 3,
   "metadata": {},
   "outputs": [],
   "source": [
    "#perform test train split with a 30% ratio. Samples chosen randomly. Taken from Python for Data Science, Page 355 \n",
    "from sklearn.model_selection import train_test_split\n",
    "X_train, X_test, y_train, Y_test = train_test_split(X, y, test_size=0.30, random_state=5)"
   ]
  },
  {
   "cell_type": "markdown",
   "metadata": {},
   "source": [
    "I then looked at the shape to confirm the split. "
   ]
  },
  {
   "cell_type": "code",
   "execution_count": 4,
   "metadata": {},
   "outputs": [
    {
     "name": "stdout",
     "output_type": "stream",
     "text": [
      "(560, 10001) (240, 10001)\n"
     ]
    }
   ],
   "source": [
    "#show shape of test train split\n",
    "print(X_train.shape, X_test.shape)"
   ]
  },
  {
   "cell_type": "markdown",
   "metadata": {},
   "source": [
    "## Data cleaning.\n",
    "Next I created a new dataset, X_train1 with the row numbers and drug discovery column results removed. Therefore we are left with only data of active or non-active bindings, 1s and 0s. "
   ]
  },
  {
   "cell_type": "code",
   "execution_count": 5,
   "metadata": {},
   "outputs": [],
   "source": [
    "#remove first and last columns ie row numbers and indicator state y train. \n",
    "X_train1 = X_train.iloc[:,1:]"
   ]
  },
  {
   "cell_type": "markdown",
   "metadata": {},
   "source": [
    "I then looked at the head of the dataset to confirm the removal of these columns. "
   ]
  },
  {
   "cell_type": "code",
   "execution_count": 6,
   "metadata": {},
   "outputs": [
    {
     "data": {
      "text/html": [
       "<div>\n",
       "<style scoped>\n",
       "    .dataframe tbody tr th:only-of-type {\n",
       "        vertical-align: middle;\n",
       "    }\n",
       "\n",
       "    .dataframe tbody tr th {\n",
       "        vertical-align: top;\n",
       "    }\n",
       "\n",
       "    .dataframe thead th {\n",
       "        text-align: right;\n",
       "    }\n",
       "</style>\n",
       "<table border=\"1\" class=\"dataframe\">\n",
       "  <thead>\n",
       "    <tr style=\"text-align: right;\">\n",
       "      <th></th>\n",
       "      <th>Unnamed: 1</th>\n",
       "      <th>Unnamed: 2</th>\n",
       "      <th>Unnamed: 3</th>\n",
       "      <th>Unnamed: 4</th>\n",
       "      <th>Unnamed: 5</th>\n",
       "      <th>Unnamed: 6</th>\n",
       "      <th>Unnamed: 7</th>\n",
       "      <th>Unnamed: 8</th>\n",
       "      <th>Unnamed: 9</th>\n",
       "      <th>Unnamed: 10</th>\n",
       "      <th>...</th>\n",
       "      <th>Unnamed: 9991</th>\n",
       "      <th>Unnamed: 9992</th>\n",
       "      <th>Unnamed: 9993</th>\n",
       "      <th>Unnamed: 9994</th>\n",
       "      <th>Unnamed: 9995</th>\n",
       "      <th>Unnamed: 9996</th>\n",
       "      <th>Unnamed: 9997</th>\n",
       "      <th>Unnamed: 9998</th>\n",
       "      <th>Unnamed: 9999</th>\n",
       "      <th>Unnamed: 10000</th>\n",
       "    </tr>\n",
       "  </thead>\n",
       "  <tbody>\n",
       "    <tr>\n",
       "      <th>564</th>\n",
       "      <td>0</td>\n",
       "      <td>0</td>\n",
       "      <td>0</td>\n",
       "      <td>0</td>\n",
       "      <td>0</td>\n",
       "      <td>0</td>\n",
       "      <td>0</td>\n",
       "      <td>0</td>\n",
       "      <td>0</td>\n",
       "      <td>0</td>\n",
       "      <td>...</td>\n",
       "      <td>0</td>\n",
       "      <td>0</td>\n",
       "      <td>0</td>\n",
       "      <td>0</td>\n",
       "      <td>0</td>\n",
       "      <td>0</td>\n",
       "      <td>0</td>\n",
       "      <td>0</td>\n",
       "      <td>0</td>\n",
       "      <td>0</td>\n",
       "    </tr>\n",
       "    <tr>\n",
       "      <th>456</th>\n",
       "      <td>0</td>\n",
       "      <td>0</td>\n",
       "      <td>0</td>\n",
       "      <td>0</td>\n",
       "      <td>0</td>\n",
       "      <td>0</td>\n",
       "      <td>0</td>\n",
       "      <td>0</td>\n",
       "      <td>0</td>\n",
       "      <td>0</td>\n",
       "      <td>...</td>\n",
       "      <td>0</td>\n",
       "      <td>0</td>\n",
       "      <td>0</td>\n",
       "      <td>0</td>\n",
       "      <td>0</td>\n",
       "      <td>0</td>\n",
       "      <td>0</td>\n",
       "      <td>0</td>\n",
       "      <td>0</td>\n",
       "      <td>0</td>\n",
       "    </tr>\n",
       "    <tr>\n",
       "      <th>756</th>\n",
       "      <td>0</td>\n",
       "      <td>0</td>\n",
       "      <td>0</td>\n",
       "      <td>0</td>\n",
       "      <td>0</td>\n",
       "      <td>0</td>\n",
       "      <td>0</td>\n",
       "      <td>0</td>\n",
       "      <td>0</td>\n",
       "      <td>0</td>\n",
       "      <td>...</td>\n",
       "      <td>0</td>\n",
       "      <td>0</td>\n",
       "      <td>0</td>\n",
       "      <td>0</td>\n",
       "      <td>0</td>\n",
       "      <td>0</td>\n",
       "      <td>0</td>\n",
       "      <td>0</td>\n",
       "      <td>0</td>\n",
       "      <td>0</td>\n",
       "    </tr>\n",
       "    <tr>\n",
       "      <th>356</th>\n",
       "      <td>0</td>\n",
       "      <td>0</td>\n",
       "      <td>0</td>\n",
       "      <td>0</td>\n",
       "      <td>0</td>\n",
       "      <td>0</td>\n",
       "      <td>0</td>\n",
       "      <td>0</td>\n",
       "      <td>0</td>\n",
       "      <td>0</td>\n",
       "      <td>...</td>\n",
       "      <td>0</td>\n",
       "      <td>0</td>\n",
       "      <td>0</td>\n",
       "      <td>0</td>\n",
       "      <td>0</td>\n",
       "      <td>0</td>\n",
       "      <td>0</td>\n",
       "      <td>0</td>\n",
       "      <td>0</td>\n",
       "      <td>0</td>\n",
       "    </tr>\n",
       "    <tr>\n",
       "      <th>626</th>\n",
       "      <td>0</td>\n",
       "      <td>0</td>\n",
       "      <td>0</td>\n",
       "      <td>0</td>\n",
       "      <td>0</td>\n",
       "      <td>0</td>\n",
       "      <td>0</td>\n",
       "      <td>0</td>\n",
       "      <td>0</td>\n",
       "      <td>0</td>\n",
       "      <td>...</td>\n",
       "      <td>0</td>\n",
       "      <td>0</td>\n",
       "      <td>0</td>\n",
       "      <td>0</td>\n",
       "      <td>0</td>\n",
       "      <td>0</td>\n",
       "      <td>0</td>\n",
       "      <td>0</td>\n",
       "      <td>0</td>\n",
       "      <td>0</td>\n",
       "    </tr>\n",
       "  </tbody>\n",
       "</table>\n",
       "<p>5 rows × 10000 columns</p>\n",
       "</div>"
      ],
      "text/plain": [
       "     Unnamed: 1  Unnamed: 2  Unnamed: 3  Unnamed: 4  Unnamed: 5  Unnamed: 6  \\\n",
       "564           0           0           0           0           0           0   \n",
       "456           0           0           0           0           0           0   \n",
       "756           0           0           0           0           0           0   \n",
       "356           0           0           0           0           0           0   \n",
       "626           0           0           0           0           0           0   \n",
       "\n",
       "     Unnamed: 7  Unnamed: 8  Unnamed: 9  Unnamed: 10  ...  Unnamed: 9991  \\\n",
       "564           0           0           0            0  ...              0   \n",
       "456           0           0           0            0  ...              0   \n",
       "756           0           0           0            0  ...              0   \n",
       "356           0           0           0            0  ...              0   \n",
       "626           0           0           0            0  ...              0   \n",
       "\n",
       "     Unnamed: 9992  Unnamed: 9993  Unnamed: 9994  Unnamed: 9995  \\\n",
       "564              0              0              0              0   \n",
       "456              0              0              0              0   \n",
       "756              0              0              0              0   \n",
       "356              0              0              0              0   \n",
       "626              0              0              0              0   \n",
       "\n",
       "     Unnamed: 9996  Unnamed: 9997  Unnamed: 9998  Unnamed: 9999  \\\n",
       "564              0              0              0              0   \n",
       "456              0              0              0              0   \n",
       "756              0              0              0              0   \n",
       "356              0              0              0              0   \n",
       "626              0              0              0              0   \n",
       "\n",
       "     Unnamed: 10000  \n",
       "564               0  \n",
       "456               0  \n",
       "756               0  \n",
       "356               0  \n",
       "626               0  \n",
       "\n",
       "[5 rows x 10000 columns]"
      ]
     },
     "execution_count": 6,
     "metadata": {},
     "output_type": "execute_result"
    }
   ],
   "source": [
    "X_train1.head(5)"
   ]
  },
  {
   "cell_type": "code",
   "execution_count": 7,
   "metadata": {},
   "outputs": [
    {
     "name": "stdout",
     "output_type": "stream",
     "text": [
      "(560, 10000)\n"
     ]
    }
   ],
   "source": [
    "#Confirm removal of first and last columns\n",
    "print(X_train1.shape)"
   ]
  },
  {
   "cell_type": "markdown",
   "metadata": {},
   "source": [
    "## Principle Component Analysis, (PCA).\n",
    "PCA, accessed via sklearn library, is an unsupervised algorithm that can restructure the data, clean the data by removing redundancies, and re-order the data by their ability to retain information, known as the Variance.\n",
    "A feature of PCA is that it attempts to learn about the relationships of the data components to each other. This allows the number of components to be drastically reduced, by ignoring, or zeroing out the smaller principle components.\n",
    "Another useful feature of a pca dataset, where the relationships are understood, is that it can speed up a machine learning algorithm such as logistic regression by reducing the size of the input dimensions.\n"
   ]
  },
  {
   "cell_type": "code",
   "execution_count": 8,
   "metadata": {},
   "outputs": [],
   "source": [
    "#PCA code used from Multivariate notebook.\n",
    "from sklearn import datasets, decomposition #cluster, linear_model\n",
    "\n",
    "X_train_pca = decomposition.PCA(n_components=3)# create a pca\n",
    "principalComponents = X_train_pca.fit_transform(X_train1) # fit the pca to this dataset\n",
    "principalDf = pd.DataFrame(data = principalComponents)\n"
   ]
  },
  {
   "cell_type": "markdown",
   "metadata": {},
   "source": [
    "I then look at the variance ratio compared to number of components, it seems most of the variance is contained within three components, with an order of magnitude drop in the forth componet. "
   ]
  },
  {
   "cell_type": "code",
   "execution_count": 9,
   "metadata": {
    "scrolled": true
   },
   "outputs": [
    {
     "data": {
      "text/plain": [
       "array([0.01433685, 0.01326232, 0.01152317])"
      ]
     },
     "execution_count": 9,
     "metadata": {},
     "output_type": "execute_result"
    }
   ],
   "source": [
    "X_train_pca.explained_variance_ratio_"
   ]
  },
  {
   "cell_type": "code",
   "execution_count": 10,
   "metadata": {},
   "outputs": [
    {
     "data": {
      "text/plain": [
       "(3, 10000)"
      ]
     },
     "execution_count": 10,
     "metadata": {},
     "output_type": "execute_result"
    }
   ],
   "source": [
    "np.shape(X_train_pca.components_)"
   ]
  },
  {
   "cell_type": "markdown",
   "metadata": {},
   "source": [
    "I then look at the total amount of data retained by my selected number of components in the pca, although small, this seems to have little effect on the sucess of my model, implying only a few very dominant components, or that logistic regression. "
   ]
  },
  {
   "cell_type": "code",
   "execution_count": 11,
   "metadata": {},
   "outputs": [
    {
     "data": {
      "text/plain": [
       "0.03912233128989161"
      ]
     },
     "execution_count": 11,
     "metadata": {},
     "output_type": "execute_result"
    }
   ],
   "source": [
    "# variance captured\n",
    "sum(X_train_pca.explained_variance_ratio_)"
   ]
  },
  {
   "cell_type": "markdown",
   "metadata": {},
   "source": [
    "## Logistic Regression\n",
    "Logistic regression is a mathematical regression analysis that is particularly suitable for data that is dichotomous (binary). There is a predictive analysis aspect of this type of regression, as a class ownership is assigned. If a y data column exists, that contains the class output, this allows comparison between assigned and predicted outputs.   \n",
    "\n",
    "A basic maths model for this process is, _probability of class = exp(r) / (1+exp(r))_ where r is the regression result, i.e. the sum of the variables weighted by the coefficents, and exp is the exponential function. "
   ]
  },
  {
   "cell_type": "markdown",
   "metadata": {},
   "source": [
    "I created a space for the Linear regression to be stored, and was forced to use the pipeline function to allow the linear regression to access the pca reduced dataset. \n",
    "The Pipeline function was sourced from https://www.kaggle.com/stevebroll/logistic-regression-model-using-pca-components. \n",
    "This Pipeline function appears to be required after an error message indicated that logisical regression could not be applied to a pca reduced data set. However the pipeline function allows a LR to be imposed on the pca dataset. "
   ]
  },
  {
   "cell_type": "code",
   "execution_count": 12,
   "metadata": {},
   "outputs": [],
   "source": [
    "LR = linear_model.LogisticRegression() #Create logistic regression empty model space.\n",
    "pipeline = skpl.Pipeline([('pca', X_train_pca), ('logreg', LR)]) #use pipeline function to impose model of logistical regression and apply this to chosen datasets, and be able to process between different data types.  \n",
    "#Sourced via https://www.kaggle.com/stevebroll/logistic-regression-model-using-pca-components.\n",
    "#More info here, https://medium.com/vickdata/a-simple-guide-to-scikit-learn-pipelines-4ac0d974bdcf"
   ]
  },
  {
   "cell_type": "markdown",
   "metadata": {},
   "source": [
    "I then used the pipeline function to apply the logistic regression model to the training dataset. "
   ]
  },
  {
   "cell_type": "code",
   "execution_count": 13,
   "metadata": {},
   "outputs": [
    {
     "name": "stderr",
     "output_type": "stream",
     "text": [
      "C:\\ProgramData\\Anaconda3\\lib\\site-packages\\sklearn\\linear_model\\logistic.py:433: FutureWarning: Default solver will be changed to 'lbfgs' in 0.22. Specify a solver to silence this warning.\n",
      "  FutureWarning)\n"
     ]
    },
    {
     "data": {
      "text/plain": [
       "Pipeline(memory=None,\n",
       "     steps=[('pca', PCA(copy=True, iterated_power='auto', n_components=3, random_state=None,\n",
       "  svd_solver='auto', tol=0.0, whiten=False)), ('logreg', LogisticRegression(C=1.0, class_weight=None, dual=False, fit_intercept=True,\n",
       "          intercept_scaling=1, max_iter=100, multi_class='warn',\n",
       "          n_jobs=None, penalty='l2', random_state=None, solver='warn',\n",
       "          tol=0.0001, verbose=0, warm_start=False))])"
      ]
     },
     "execution_count": 13,
     "metadata": {},
     "output_type": "execute_result"
    }
   ],
   "source": [
    "pipeline.fit(X_train, y_train) # apply original data to model."
   ]
  },
  {
   "cell_type": "markdown",
   "metadata": {},
   "source": [
    "We can now look to see how well it has assigned a class ownership to the training data. "
   ]
  },
  {
   "cell_type": "code",
   "execution_count": 14,
   "metadata": {},
   "outputs": [
    {
     "data": {
      "text/plain": [
       "0.9178571428571428"
      ]
     },
     "execution_count": 14,
     "metadata": {},
     "output_type": "execute_result"
    }
   ],
   "source": [
    "pipeline.score(X_train, y_train)"
   ]
  },
  {
   "cell_type": "code",
   "execution_count": 15,
   "metadata": {},
   "outputs": [
    {
     "name": "stdout",
     "output_type": "stream",
     "text": [
      "test samples: 560\n",
      "test samples shape: (560, 10001)\n"
     ]
    }
   ],
   "source": [
    "print('test samples:', len(y_train))\n",
    "print('test samples shape:',X_train.shape)"
   ]
  },
  {
   "cell_type": "markdown",
   "metadata": {},
   "source": [
    "I then performed a PCA on the test dataset for continuity, and looked to add a prediction of the class ownership onto my test data, as well as a success classification using the Y data column that indicates successful drug development. "
   ]
  },
  {
   "cell_type": "code",
   "execution_count": 16,
   "metadata": {},
   "outputs": [],
   "source": [
    "prediction = pipeline.predict(X_test) # Apply model to test data and predict Y data.\n",
    "success = (prediction == Y_test) # Compare prediction to Y_test to determine if sucessful.\n",
    "\n",
    "Y_test_pca = decomposition.PCA(n_components=3)\n",
    "principalComponents = X_train_pca.fit_transform(X_test) \n",
    "principalDf_test = pd.DataFrame(data = principalComponents)\n",
    "#print('principalDF shape', principalDf.shape)\n",
    "#print(principalDf)"
   ]
  },
  {
   "cell_type": "markdown",
   "metadata": {},
   "source": [
    "Next I viewed the class ownership columns as defined by Y_data and look at the successful predictions."
   ]
  },
  {
   "cell_type": "code",
   "execution_count": 17,
   "metadata": {},
   "outputs": [
    {
     "name": "stdout",
     "output_type": "stream",
     "text": [
      "length 240\n"
     ]
    },
    {
     "data": {
      "text/plain": [
       "28    -1\n",
       "654   -1\n",
       "383   -1\n",
       "648   -1\n",
       "247   -1\n",
       "628   -1\n",
       "405   -1\n",
       "258   -1\n",
       "390   -1\n",
       "322   -1\n",
       "117   -1\n",
       "742   -1\n",
       "250   -1\n",
       "123   -1\n",
       "634   -1\n",
       "267   -1\n",
       "568   -1\n",
       "151   -1\n",
       "530   -1\n",
       "518   -1\n",
       "159   -1\n",
       "331    1\n",
       "342   -1\n",
       "688   -1\n",
       "355   -1\n",
       "441   -1\n",
       "12    -1\n",
       "440   -1\n",
       "726   -1\n",
       "571   -1\n",
       "      ..\n",
       "578   -1\n",
       "343   -1\n",
       "50    -1\n",
       "733   -1\n",
       "796   -1\n",
       "536   -1\n",
       "434    1\n",
       "605   -1\n",
       "504   -1\n",
       "286   -1\n",
       "556   -1\n",
       "149   -1\n",
       "645   -1\n",
       "129   -1\n",
       "330   -1\n",
       "651   -1\n",
       "438   -1\n",
       "417   -1\n",
       "283   -1\n",
       "325   -1\n",
       "447   -1\n",
       "580   -1\n",
       "326   -1\n",
       "366   -1\n",
       "703   -1\n",
       "53    -1\n",
       "769   -1\n",
       "138   -1\n",
       "370   -1\n",
       "349    1\n",
       "Name: y.train, Length: 240, dtype: int64"
      ]
     },
     "execution_count": 17,
     "metadata": {},
     "output_type": "execute_result"
    }
   ],
   "source": [
    "Y_success_idx = [i for i, x in enumerate(success) if x]\n",
    "Y_success_idx\n",
    "\n",
    "print('length', len(Y_test))\n",
    "Y_test[:,]"
   ]
  },
  {
   "cell_type": "markdown",
   "metadata": {},
   "source": [
    "Comparing the predictive class ownership from the train data with the test data, we can see its slightly lower. This is to be expected, but also indicates we are not overfitting the data. "
   ]
  },
  {
   "cell_type": "code",
   "execution_count": 18,
   "metadata": {},
   "outputs": [
    {
     "data": {
      "text/plain": [
       "0.8833333333333333"
      ]
     },
     "execution_count": 18,
     "metadata": {},
     "output_type": "execute_result"
    }
   ],
   "source": [
    "pipeline.score(X_test, Y_test)"
   ]
  },
  {
   "cell_type": "markdown",
   "metadata": {},
   "source": [
    "I then bring up all the test data shapes to check the numbers. We have 240 successful drugs indicated in Y, and 212 successful predictions. \n",
    "_212 / 240 = 0.883_, a match for the score. "
   ]
  },
  {
   "cell_type": "code",
   "execution_count": 19,
   "metadata": {},
   "outputs": [
    {
     "name": "stdout",
     "output_type": "stream",
     "text": [
      "success length:  240\n",
      "sucess sum: 213\n",
      "test samples: 240\n",
      "test samples shape: (240, 10001)\n",
      "y-test shape: (240,)\n",
      "(240,)\n"
     ]
    }
   ],
   "source": [
    "print('success length: ', len(success))\n",
    "print('sucess sum:', sum(success))\n",
    "print('test samples:', len(Y_test))\n",
    "print('test samples shape:',X_test.shape)\n",
    "#print('sucess shape:', success)\n",
    "print('y-test shape:', Y_test.shape)\n",
    "print(principalDf_test.iloc[:,1].shape)"
   ]
  },
  {
   "cell_type": "markdown",
   "metadata": {},
   "source": [
    "## Interpretation and visualisation\n",
    "I plotted the class ownerships of the successful drugs as indicated using Y_test. I belive these show the p value, or the relationship between the variables, and how close the successful drug matches the mean value.   "
   ]
  },
  {
   "cell_type": "code",
   "execution_count": 20,
   "metadata": {},
   "outputs": [
    {
     "data": {
      "image/png": "[encoded data removed]",
      "text/plain": [
       "<Figure size 432x288 with 1 Axes>"
      ]
     },
     "metadata": {
      "needs_background": "light"
     },
     "output_type": "display_data"
    }
   ],
   "source": [
    "plt.title(\"Test data class positions \")\n",
    "plt.xlabel(\"Successful drugs\")\n",
    "plt.ylabel(\"p value\")\n",
    "plt.plot(principalDf_test.iloc[:,1], 'x')\n",
    "plt.show()\n"
   ]
  },
  {
   "cell_type": "markdown",
   "metadata": {},
   "source": [
    "I then plotted the predicted class ownerships. "
   ]
  },
  {
   "cell_type": "code",
   "execution_count": 21,
   "metadata": {},
   "outputs": [
    {
     "data": {
      "text/plain": [
       "<function matplotlib.pyplot.show(*args, **kw)>"
      ]
     },
     "execution_count": 21,
     "metadata": {},
     "output_type": "execute_result"
    },
    {
     "data": {
      "image/png": "[encoded data removed]",
      "text/plain": [
       "<Figure size 432x288 with 1 Axes>"
      ]
     },
     "metadata": {
      "needs_background": "light"
     },
     "output_type": "display_data"
    }
   ],
   "source": [
    "plt.title(\"Test data prediction positions \")\n",
    "plt.xlabel(\"Successful drugs\")\n",
    "plt.ylabel(\"p value\")\n",
    "plt.plot(principalDf_test.iloc[Y_success_idx,1], 'or')\n",
    "plt.show"
   ]
  },
  {
   "cell_type": "code",
   "execution_count": 22,
   "metadata": {
    "scrolled": false
   },
   "outputs": [
    {
     "data": {
      "image/png": "[encoded data removed]",
      "text/plain": [
       "<Figure size 432x288 with 1 Axes>"
      ]
     },
     "metadata": {
      "needs_background": "light"
     },
     "output_type": "display_data"
    }
   ],
   "source": [
    "plt.title(\"Test data positions and predictions overimposed \")\n",
    "plt.xlabel(\"Successful drugs\")\n",
    "plt.ylabel(\"p value\")\n",
    "plt.plot(principalDf_test.iloc[:,1], 'x')\n",
    "plt.plot(principalDf_test.iloc[Y_success_idx,1], 'or')\n",
    "plt.show()"
   ]
  },
  {
   "cell_type": "code",
   "execution_count": 23,
   "metadata": {
    "scrolled": true
   },
   "outputs": [
    {
     "data": {
      "text/plain": [
       "[<matplotlib.lines.Line2D at 0x221e42a9160>]"
      ]
     },
     "execution_count": 23,
     "metadata": {},
     "output_type": "execute_result"
    },
    {
     "data": {
      "image/png": "[encoded data removed]",
      "text/plain": [
       "<Figure size 432x288 with 4 Axes>"
      ]
     },
     "metadata": {
      "needs_background": "light"
     },
     "output_type": "display_data"
    }
   ],
   "source": [
    "f, ((ax1, ax2), (ax3, ax4)) = plt.subplots(2, 2)\n",
    "f.suptitle('Positions and predictions compared')\n",
    "\n",
    "\n",
    "ax1.plot(principalDf_test.iloc[:,1], 'x')\n",
    "ax2.plot(principalDf_test.iloc[Y_success_idx,1], 'or')\n"
   ]
  },
  {
   "cell_type": "markdown",
   "metadata": {},
   "source": [
    "# Conclusion\n",
    "We can observe that there appears to be a single outlier point in the test data positions. This is probabaly a false positive or some other introduced anonomly in the dataset, and could be a target for further data cleaning or data selection. However logistic regression appears to be able to successfully predict drug success, and the majority share similar traits, as indicated by the linear nature and low p value of the plots.   "
   ]
  }
 ],
 "metadata": {
  "kernelspec": {
   "display_name": "Python 3",
   "language": "python",
   "name": "python3"
  },
  "language_info": {
   "codemirror_mode": {
    "name": "ipython",
    "version": 3
   },
   "file_extension": ".py",
   "mimetype": "text/x-python",
   "name": "python",
   "nbconvert_exporter": "python",
   "pygments_lexer": "ipython3",
   "version": "3.7.3"
  }
 },
 "nbformat": 4,
 "nbformat_minor": 2
}
