{
 "cells": [
  {
   "cell_type": "markdown",
   "metadata": {},
   "source": [
    "## Analysis of the Dorothea dataset by Paul Trimble.\n",
    "This notebook is my data analysis process applied to the Dorothea_smaller data set, initial data exploration has already been comducted, indicating a sparse binary dataset of a matrix of 800x10001, "
   ]
  },
  {
   "cell_type": "markdown",
   "metadata": {},
   "source": [
    "My first action is to import the libaries that are required throughout this analyisis, specifically pandas for data handling, \n",
    "numpy for basic mathmatical functions, "
   ]
  },
  {
   "cell_type": "code",
   "execution_count": 2,
   "metadata": {},
   "outputs": [],
   "source": [
    "\n",
    "from sklearn.decomposition import PCA as sklearnPCA\n",
    "\n",
    "from sklearn import datasets\n",
    "from sklearn import linear_model, svm, tree\n",
    "from sklearn.model_selection import train_test_split\n",
    "#from sklearn.ensemble import RandomForestClassifier\n",
    "#from scipy.cluster.hierarchy import dendrogram, linkage\n",
    "import sklearn.pipeline as skpl\n",
    "import pandas as pd\n",
    "import numpy as np\n",
    "import matplotlib.pyplot as plt\n",
    "import seaborn as sns\n",
    "from sklearn.preprocessing import StandardScaler\n",
    "\n",
    "\n",
    "%matplotlib inline"
   ]
  },
  {
   "cell_type": "markdown",
   "metadata": {},
   "source": [
    "I then upload the dataset, and spefically assign X,y for numbered row and (check)"
   ]
  },
  {
   "cell_type": "code",
   "execution_count": 3,
   "metadata": {},
   "outputs": [],
   "source": [
    "data = pd.read_csv(\"Datasets/dorothea_smaller.csv\")\n",
    "X, y = data.iloc[:,0:-1], data.iloc[:,-1]"
   ]
  },
  {
   "cell_type": "markdown",
   "metadata": {},
   "source": [
    "To perserve the integrity of the data, I perform a test data split, on a standardised 70/30 split genereated from a random selection. \n",
    "Test train split accessed via sklearn library. "
   ]
  },
  {
   "cell_type": "code",
   "execution_count": 4,
   "metadata": {},
   "outputs": [],
   "source": [
    "#perform test train split with a 30% ratio. Samples chosen randomly. Taken from Python for Data Science, Page 355 \n",
    "from sklearn.model_selection import train_test_split\n",
    "X_train, X_test, y_train, Y_test = train_test_split(X, y, test_size=0.30, random_state=5)"
   ]
  },
  {
   "cell_type": "markdown",
   "metadata": {},
   "source": [
    "I then look at the shape of the train split to confirm split. "
   ]
  },
  {
   "cell_type": "code",
   "execution_count": 5,
   "metadata": {},
   "outputs": [
    {
     "name": "stdout",
     "output_type": "stream",
     "text": [
      "(560, 10001) (240, 10001)\n"
     ]
    }
   ],
   "source": [
    "#show shape of test train split\n",
    "print(X_train.shape, X_test.shape)"
   ]
  },
  {
   "cell_type": "code",
   "execution_count": 6,
   "metadata": {},
   "outputs": [],
   "source": [
    "#Show shape of test train splait\n",
    "#print (y_train.shape, Y_test.shape)"
   ]
  },
  {
   "cell_type": "markdown",
   "metadata": {},
   "source": [
    "I then create a new data set with the row numbers and drug discovery column removed. "
   ]
  },
  {
   "cell_type": "code",
   "execution_count": 7,
   "metadata": {},
   "outputs": [],
   "source": [
    "#remove first and last columns ie row numbers and indicator state y train. \n",
    "X_train1 = X_train.iloc[:,1:]"
   ]
  },
  {
   "cell_type": "markdown",
   "metadata": {},
   "source": [
    "And look the the head of this dataset. "
   ]
  },
  {
   "cell_type": "code",
   "execution_count": 8,
   "metadata": {},
   "outputs": [
    {
     "data": {
      "text/html": [
       "<div>\n",
       "<style scoped>\n",
       "    .dataframe tbody tr th:only-of-type {\n",
       "        vertical-align: middle;\n",
       "    }\n",
       "\n",
       "    .dataframe tbody tr th {\n",
       "        vertical-align: top;\n",
       "    }\n",
       "\n",
       "    .dataframe thead th {\n",
       "        text-align: right;\n",
       "    }\n",
       "</style>\n",
       "<table border=\"1\" class=\"dataframe\">\n",
       "  <thead>\n",
       "    <tr style=\"text-align: right;\">\n",
       "      <th></th>\n",
       "      <th>Unnamed: 1</th>\n",
       "      <th>Unnamed: 2</th>\n",
       "      <th>Unnamed: 3</th>\n",
       "      <th>Unnamed: 4</th>\n",
       "      <th>Unnamed: 5</th>\n",
       "      <th>Unnamed: 6</th>\n",
       "      <th>Unnamed: 7</th>\n",
       "      <th>Unnamed: 8</th>\n",
       "      <th>Unnamed: 9</th>\n",
       "      <th>Unnamed: 10</th>\n",
       "      <th>...</th>\n",
       "      <th>Unnamed: 9991</th>\n",
       "      <th>Unnamed: 9992</th>\n",
       "      <th>Unnamed: 9993</th>\n",
       "      <th>Unnamed: 9994</th>\n",
       "      <th>Unnamed: 9995</th>\n",
       "      <th>Unnamed: 9996</th>\n",
       "      <th>Unnamed: 9997</th>\n",
       "      <th>Unnamed: 9998</th>\n",
       "      <th>Unnamed: 9999</th>\n",
       "      <th>Unnamed: 10000</th>\n",
       "    </tr>\n",
       "  </thead>\n",
       "  <tbody>\n",
       "    <tr>\n",
       "      <th>564</th>\n",
       "      <td>0</td>\n",
       "      <td>0</td>\n",
       "      <td>0</td>\n",
       "      <td>0</td>\n",
       "      <td>0</td>\n",
       "      <td>0</td>\n",
       "      <td>0</td>\n",
       "      <td>0</td>\n",
       "      <td>0</td>\n",
       "      <td>0</td>\n",
       "      <td>...</td>\n",
       "      <td>0</td>\n",
       "      <td>0</td>\n",
       "      <td>0</td>\n",
       "      <td>0</td>\n",
       "      <td>0</td>\n",
       "      <td>0</td>\n",
       "      <td>0</td>\n",
       "      <td>0</td>\n",
       "      <td>0</td>\n",
       "      <td>0</td>\n",
       "    </tr>\n",
       "    <tr>\n",
       "      <th>456</th>\n",
       "      <td>0</td>\n",
       "      <td>0</td>\n",
       "      <td>0</td>\n",
       "      <td>0</td>\n",
       "      <td>0</td>\n",
       "      <td>0</td>\n",
       "      <td>0</td>\n",
       "      <td>0</td>\n",
       "      <td>0</td>\n",
       "      <td>0</td>\n",
       "      <td>...</td>\n",
       "      <td>0</td>\n",
       "      <td>0</td>\n",
       "      <td>0</td>\n",
       "      <td>0</td>\n",
       "      <td>0</td>\n",
       "      <td>0</td>\n",
       "      <td>0</td>\n",
       "      <td>0</td>\n",
       "      <td>0</td>\n",
       "      <td>0</td>\n",
       "    </tr>\n",
       "    <tr>\n",
       "      <th>756</th>\n",
       "      <td>0</td>\n",
       "      <td>0</td>\n",
       "      <td>0</td>\n",
       "      <td>0</td>\n",
       "      <td>0</td>\n",
       "      <td>0</td>\n",
       "      <td>0</td>\n",
       "      <td>0</td>\n",
       "      <td>0</td>\n",
       "      <td>0</td>\n",
       "      <td>...</td>\n",
       "      <td>0</td>\n",
       "      <td>0</td>\n",
       "      <td>0</td>\n",
       "      <td>0</td>\n",
       "      <td>0</td>\n",
       "      <td>0</td>\n",
       "      <td>0</td>\n",
       "      <td>0</td>\n",
       "      <td>0</td>\n",
       "      <td>0</td>\n",
       "    </tr>\n",
       "    <tr>\n",
       "      <th>356</th>\n",
       "      <td>0</td>\n",
       "      <td>0</td>\n",
       "      <td>0</td>\n",
       "      <td>0</td>\n",
       "      <td>0</td>\n",
       "      <td>0</td>\n",
       "      <td>0</td>\n",
       "      <td>0</td>\n",
       "      <td>0</td>\n",
       "      <td>0</td>\n",
       "      <td>...</td>\n",
       "      <td>0</td>\n",
       "      <td>0</td>\n",
       "      <td>0</td>\n",
       "      <td>0</td>\n",
       "      <td>0</td>\n",
       "      <td>0</td>\n",
       "      <td>0</td>\n",
       "      <td>0</td>\n",
       "      <td>0</td>\n",
       "      <td>0</td>\n",
       "    </tr>\n",
       "    <tr>\n",
       "      <th>626</th>\n",
       "      <td>0</td>\n",
       "      <td>0</td>\n",
       "      <td>0</td>\n",
       "      <td>0</td>\n",
       "      <td>0</td>\n",
       "      <td>0</td>\n",
       "      <td>0</td>\n",
       "      <td>0</td>\n",
       "      <td>0</td>\n",
       "      <td>0</td>\n",
       "      <td>...</td>\n",
       "      <td>0</td>\n",
       "      <td>0</td>\n",
       "      <td>0</td>\n",
       "      <td>0</td>\n",
       "      <td>0</td>\n",
       "      <td>0</td>\n",
       "      <td>0</td>\n",
       "      <td>0</td>\n",
       "      <td>0</td>\n",
       "      <td>0</td>\n",
       "    </tr>\n",
       "    <tr>\n",
       "      <th>492</th>\n",
       "      <td>0</td>\n",
       "      <td>0</td>\n",
       "      <td>0</td>\n",
       "      <td>0</td>\n",
       "      <td>0</td>\n",
       "      <td>0</td>\n",
       "      <td>0</td>\n",
       "      <td>0</td>\n",
       "      <td>0</td>\n",
       "      <td>0</td>\n",
       "      <td>...</td>\n",
       "      <td>0</td>\n",
       "      <td>0</td>\n",
       "      <td>0</td>\n",
       "      <td>0</td>\n",
       "      <td>0</td>\n",
       "      <td>0</td>\n",
       "      <td>0</td>\n",
       "      <td>0</td>\n",
       "      <td>0</td>\n",
       "      <td>0</td>\n",
       "    </tr>\n",
       "    <tr>\n",
       "      <th>232</th>\n",
       "      <td>0</td>\n",
       "      <td>0</td>\n",
       "      <td>0</td>\n",
       "      <td>0</td>\n",
       "      <td>0</td>\n",
       "      <td>0</td>\n",
       "      <td>0</td>\n",
       "      <td>0</td>\n",
       "      <td>0</td>\n",
       "      <td>0</td>\n",
       "      <td>...</td>\n",
       "      <td>0</td>\n",
       "      <td>0</td>\n",
       "      <td>0</td>\n",
       "      <td>0</td>\n",
       "      <td>0</td>\n",
       "      <td>0</td>\n",
       "      <td>0</td>\n",
       "      <td>0</td>\n",
       "      <td>0</td>\n",
       "      <td>0</td>\n",
       "    </tr>\n",
       "    <tr>\n",
       "      <th>155</th>\n",
       "      <td>0</td>\n",
       "      <td>0</td>\n",
       "      <td>0</td>\n",
       "      <td>0</td>\n",
       "      <td>0</td>\n",
       "      <td>0</td>\n",
       "      <td>0</td>\n",
       "      <td>0</td>\n",
       "      <td>0</td>\n",
       "      <td>0</td>\n",
       "      <td>...</td>\n",
       "      <td>0</td>\n",
       "      <td>0</td>\n",
       "      <td>0</td>\n",
       "      <td>0</td>\n",
       "      <td>0</td>\n",
       "      <td>0</td>\n",
       "      <td>0</td>\n",
       "      <td>0</td>\n",
       "      <td>0</td>\n",
       "      <td>0</td>\n",
       "    </tr>\n",
       "    <tr>\n",
       "      <th>695</th>\n",
       "      <td>0</td>\n",
       "      <td>0</td>\n",
       "      <td>0</td>\n",
       "      <td>0</td>\n",
       "      <td>0</td>\n",
       "      <td>0</td>\n",
       "      <td>0</td>\n",
       "      <td>0</td>\n",
       "      <td>1</td>\n",
       "      <td>0</td>\n",
       "      <td>...</td>\n",
       "      <td>0</td>\n",
       "      <td>0</td>\n",
       "      <td>0</td>\n",
       "      <td>0</td>\n",
       "      <td>0</td>\n",
       "      <td>0</td>\n",
       "      <td>0</td>\n",
       "      <td>0</td>\n",
       "      <td>0</td>\n",
       "      <td>1</td>\n",
       "    </tr>\n",
       "    <tr>\n",
       "      <th>686</th>\n",
       "      <td>0</td>\n",
       "      <td>0</td>\n",
       "      <td>0</td>\n",
       "      <td>0</td>\n",
       "      <td>0</td>\n",
       "      <td>0</td>\n",
       "      <td>0</td>\n",
       "      <td>0</td>\n",
       "      <td>0</td>\n",
       "      <td>0</td>\n",
       "      <td>...</td>\n",
       "      <td>0</td>\n",
       "      <td>0</td>\n",
       "      <td>0</td>\n",
       "      <td>0</td>\n",
       "      <td>0</td>\n",
       "      <td>0</td>\n",
       "      <td>0</td>\n",
       "      <td>0</td>\n",
       "      <td>0</td>\n",
       "      <td>0</td>\n",
       "    </tr>\n",
       "  </tbody>\n",
       "</table>\n",
       "<p>10 rows × 10000 columns</p>\n",
       "</div>"
      ],
      "text/plain": [
       "     Unnamed: 1  Unnamed: 2  Unnamed: 3  Unnamed: 4  Unnamed: 5  Unnamed: 6  \\\n",
       "564           0           0           0           0           0           0   \n",
       "456           0           0           0           0           0           0   \n",
       "756           0           0           0           0           0           0   \n",
       "356           0           0           0           0           0           0   \n",
       "626           0           0           0           0           0           0   \n",
       "492           0           0           0           0           0           0   \n",
       "232           0           0           0           0           0           0   \n",
       "155           0           0           0           0           0           0   \n",
       "695           0           0           0           0           0           0   \n",
       "686           0           0           0           0           0           0   \n",
       "\n",
       "     Unnamed: 7  Unnamed: 8  Unnamed: 9  Unnamed: 10  ...  Unnamed: 9991  \\\n",
       "564           0           0           0            0  ...              0   \n",
       "456           0           0           0            0  ...              0   \n",
       "756           0           0           0            0  ...              0   \n",
       "356           0           0           0            0  ...              0   \n",
       "626           0           0           0            0  ...              0   \n",
       "492           0           0           0            0  ...              0   \n",
       "232           0           0           0            0  ...              0   \n",
       "155           0           0           0            0  ...              0   \n",
       "695           0           0           1            0  ...              0   \n",
       "686           0           0           0            0  ...              0   \n",
       "\n",
       "     Unnamed: 9992  Unnamed: 9993  Unnamed: 9994  Unnamed: 9995  \\\n",
       "564              0              0              0              0   \n",
       "456              0              0              0              0   \n",
       "756              0              0              0              0   \n",
       "356              0              0              0              0   \n",
       "626              0              0              0              0   \n",
       "492              0              0              0              0   \n",
       "232              0              0              0              0   \n",
       "155              0              0              0              0   \n",
       "695              0              0              0              0   \n",
       "686              0              0              0              0   \n",
       "\n",
       "     Unnamed: 9996  Unnamed: 9997  Unnamed: 9998  Unnamed: 9999  \\\n",
       "564              0              0              0              0   \n",
       "456              0              0              0              0   \n",
       "756              0              0              0              0   \n",
       "356              0              0              0              0   \n",
       "626              0              0              0              0   \n",
       "492              0              0              0              0   \n",
       "232              0              0              0              0   \n",
       "155              0              0              0              0   \n",
       "695              0              0              0              0   \n",
       "686              0              0              0              0   \n",
       "\n",
       "     Unnamed: 10000  \n",
       "564               0  \n",
       "456               0  \n",
       "756               0  \n",
       "356               0  \n",
       "626               0  \n",
       "492               0  \n",
       "232               0  \n",
       "155               0  \n",
       "695               1  \n",
       "686               0  \n",
       "\n",
       "[10 rows x 10000 columns]"
      ]
     },
     "execution_count": 8,
     "metadata": {},
     "output_type": "execute_result"
    }
   ],
   "source": [
    "X_train1.head(10)"
   ]
  },
  {
   "cell_type": "code",
   "execution_count": 9,
   "metadata": {},
   "outputs": [
    {
     "name": "stdout",
     "output_type": "stream",
     "text": [
      "(560, 10000)\n"
     ]
    }
   ],
   "source": [
    "#Confirm removal of first and last columns\n",
    "print(X_train1.shape)"
   ]
  },
  {
   "cell_type": "markdown",
   "metadata": {},
   "source": [
    "##Principle Component Analysis, (PCA) Used for dimensionality Reduction.\n",
    "Accessed via sklearn library. \n",
    "PCA code used from Multivariate notebook."
   ]
  },
  {
   "cell_type": "code",
   "execution_count": 10,
   "metadata": {},
   "outputs": [],
   "source": [
    "from sklearn import datasets, decomposition, cluster, linear_model\n",
    "\n",
    "X_train_pca = decomposition.PCA(n_components=3)# create a pca\n",
    "principalComponents = X_train_pca.fit_transform(X_train1) # fit the pca to this dataset\n",
    "principalDf = pd.DataFrame(data = principalComponents)\n"
   ]
  },
  {
   "cell_type": "markdown",
   "metadata": {},
   "source": [
    "I then look at the variance ratio compared to number of components, it seems most of the variance is contained within three components, with an order of magnitude drop in the forth componet. "
   ]
  },
  {
   "cell_type": "code",
   "execution_count": 11,
   "metadata": {
    "scrolled": true
   },
   "outputs": [
    {
     "data": {
      "text/plain": [
       "array([0.01433685, 0.01326232, 0.01152316])"
      ]
     },
     "execution_count": 11,
     "metadata": {},
     "output_type": "execute_result"
    }
   ],
   "source": [
    "X_train_pca.explained_variance_ratio_"
   ]
  },
  {
   "cell_type": "code",
   "execution_count": 12,
   "metadata": {},
   "outputs": [
    {
     "data": {
      "text/plain": [
       "(3, 10000)"
      ]
     },
     "execution_count": 12,
     "metadata": {},
     "output_type": "execute_result"
    }
   ],
   "source": [
    "np.shape(X_train_pca.components_)"
   ]
  },
  {
   "cell_type": "markdown",
   "metadata": {},
   "source": [
    "I then look at the total amount of data retained by my selected number of components in the pca, although small, this seems to have little effect on the sucess of my model, implying only a few very dominant components. "
   ]
  },
  {
   "cell_type": "code",
   "execution_count": 13,
   "metadata": {},
   "outputs": [
    {
     "data": {
      "text/plain": [
       "0.03912232389575988"
      ]
     },
     "execution_count": 13,
     "metadata": {},
     "output_type": "execute_result"
    }
   ],
   "source": [
    "# variance captured\n",
    "sum(X_train_pca.explained_variance_ratio_)"
   ]
  },
  {
   "cell_type": "markdown",
   "metadata": {},
   "source": [
    "I now create a space for the Linear regression to be stored to, and use the pipeline function to allow the linear regression to access the pca reduced data set. \n",
    "Pipeline function sourced from https://www.kaggle.com/stevebroll/logistic-regression-model-using-pca-components. \n",
    "Pipeline function appears to be required after error message that logisical regression could not be applied to a pca reduced data set, however pipeline function allows a LR to be imposed on the pca dataset. "
   ]
  },
  {
   "cell_type": "code",
   "execution_count": 14,
   "metadata": {},
   "outputs": [],
   "source": [
    "LR = linear_model.LogisticRegression() #Create logistic regression empty model space.\n",
    "pipeline = skpl.Pipeline([('pca', X_train_pca), ('logreg', LR)]) #use pipeline function to impose model of logistical regression and apply this to chosen datasets, and be able to process between different data types.  \n",
    "#Sourced via https://www.kaggle.com/stevebroll/logistic-regression-model-using-pca-components.\n",
    "#More info here, https://medium.com/vickdata/a-simple-guide-to-scikit-learn-pipelines-4ac0d974bdcf"
   ]
  },
  {
   "cell_type": "markdown",
   "metadata": {},
   "source": [
    "I now apply the pipeline function onto the training data set. "
   ]
  },
  {
   "cell_type": "code",
   "execution_count": 15,
   "metadata": {},
   "outputs": [
    {
     "name": "stderr",
     "output_type": "stream",
     "text": [
      "C:\\ProgramData\\Anaconda3\\lib\\site-packages\\sklearn\\linear_model\\logistic.py:433: FutureWarning: Default solver will be changed to 'lbfgs' in 0.22. Specify a solver to silence this warning.\n",
      "  FutureWarning)\n"
     ]
    },
    {
     "data": {
      "text/plain": [
       "Pipeline(memory=None,\n",
       "     steps=[('pca', PCA(copy=True, iterated_power='auto', n_components=3, random_state=None,\n",
       "  svd_solver='auto', tol=0.0, whiten=False)), ('logreg', LogisticRegression(C=1.0, class_weight=None, dual=False, fit_intercept=True,\n",
       "          intercept_scaling=1, max_iter=100, multi_class='warn',\n",
       "          n_jobs=None, penalty='l2', random_state=None, solver='warn',\n",
       "          tol=0.0001, verbose=0, warm_start=False))])"
      ]
     },
     "execution_count": 15,
     "metadata": {},
     "output_type": "execute_result"
    }
   ],
   "source": [
    "pipeline.fit(X_train, y_train) # apply original data to model."
   ]
  },
  {
   "cell_type": "code",
   "execution_count": 16,
   "metadata": {},
   "outputs": [
    {
     "data": {
      "text/plain": [
       "0.9178571428571428"
      ]
     },
     "execution_count": 16,
     "metadata": {},
     "output_type": "execute_result"
    }
   ],
   "source": [
    "pipeline.score(X_train, y_train)"
   ]
  },
  {
   "cell_type": "code",
   "execution_count": 28,
   "metadata": {},
   "outputs": [
    {
     "name": "stdout",
     "output_type": "stream",
     "text": [
      "test samples: 560\n",
      "test samples shape: (560, 10001)\n"
     ]
    }
   ],
   "source": [
    "print('test samples:', len(y_train))\n",
    "print('test samples shape:',X_train.shape)"
   ]
  },
  {
   "cell_type": "markdown",
   "metadata": {},
   "source": [
    "I then perform the same PCA on the test dataset and look to predict onto my test data. "
   ]
  },
  {
   "cell_type": "code",
   "execution_count": 25,
   "metadata": {},
   "outputs": [],
   "source": [
    "prediction = pipeline.predict(X_test) # Apply model to test data and predict Y data.\n",
    "success = (prediction == Y_test) # Compare prediction to Y_test to determine if sucessful.\n",
    "\n",
    "Y_test_pca = decomposition.PCA(n_components=3)\n",
    "principalComponents = X_train_pca.fit_transform(X_test) \n",
    "principalDf_test = pd.DataFrame(data = principalComponents)\n",
    "#print('principalDF shape', principalDf.shape)\n",
    "#print(principalDf)"
   ]
  },
  {
   "cell_type": "markdown",
   "metadata": {},
   "source": [
    "I then bring up all the active sections of Y-Test"
   ]
  },
  {
   "cell_type": "code",
   "execution_count": 42,
   "metadata": {},
   "outputs": [
    {
     "name": "stdout",
     "output_type": "stream",
     "text": [
      "length 240\n"
     ]
    },
    {
     "data": {
      "text/plain": [
       "28    -1\n",
       "654   -1\n",
       "383   -1\n",
       "648   -1\n",
       "247   -1\n",
       "628   -1\n",
       "405   -1\n",
       "258   -1\n",
       "390   -1\n",
       "322   -1\n",
       "117   -1\n",
       "742   -1\n",
       "250   -1\n",
       "123   -1\n",
       "634   -1\n",
       "267   -1\n",
       "568   -1\n",
       "151   -1\n",
       "530   -1\n",
       "518   -1\n",
       "159   -1\n",
       "331    1\n",
       "342   -1\n",
       "688   -1\n",
       "355   -1\n",
       "441   -1\n",
       "12    -1\n",
       "440   -1\n",
       "726   -1\n",
       "571   -1\n",
       "      ..\n",
       "578   -1\n",
       "343   -1\n",
       "50    -1\n",
       "733   -1\n",
       "796   -1\n",
       "536   -1\n",
       "434    1\n",
       "605   -1\n",
       "504   -1\n",
       "286   -1\n",
       "556   -1\n",
       "149   -1\n",
       "645   -1\n",
       "129   -1\n",
       "330   -1\n",
       "651   -1\n",
       "438   -1\n",
       "417   -1\n",
       "283   -1\n",
       "325   -1\n",
       "447   -1\n",
       "580   -1\n",
       "326   -1\n",
       "366   -1\n",
       "703   -1\n",
       "53    -1\n",
       "769   -1\n",
       "138   -1\n",
       "370   -1\n",
       "349    1\n",
       "Name: y.train, Length: 240, dtype: int64"
      ]
     },
     "execution_count": 42,
     "metadata": {},
     "output_type": "execute_result"
    }
   ],
   "source": [
    "Y_success_idx = [i for i, x in enumerate(success) if x]\n",
    "Y_success_idx\n",
    "\n",
    "print('length', len(Y_test))\n",
    "Y_test[:,]"
   ]
  },
  {
   "cell_type": "markdown",
   "metadata": {},
   "source": [
    "Prediction score, slightly down from training data as to be expected. "
   ]
  },
  {
   "cell_type": "code",
   "execution_count": 43,
   "metadata": {},
   "outputs": [
    {
     "data": {
      "text/plain": [
       "0.8833333333333333"
      ]
     },
     "execution_count": 43,
     "metadata": {},
     "output_type": "execute_result"
    }
   ],
   "source": [
    "pipeline.score(X_test, Y_test)"
   ]
  },
  {
   "cell_type": "markdown",
   "metadata": {},
   "source": [
    "I then bring up all the shapes to check the numbers, we have 240 sucessful drugs indicated in Y, and 212 sucessfully predictions. \n",
    "212/240 = 0.883"
   ]
  },
  {
   "cell_type": "code",
   "execution_count": 44,
   "metadata": {},
   "outputs": [
    {
     "name": "stdout",
     "output_type": "stream",
     "text": [
      "success length:  240\n",
      "sucess sum: 212\n",
      "test samples: 240\n",
      "test samples shape: (240, 10001)\n",
      "y-test shape: (240,)\n",
      "(240,)\n"
     ]
    }
   ],
   "source": [
    "print('success length: ', len(success))\n",
    "print('sucess sum:', sum(success))\n",
    "print('test samples:', len(Y_test))\n",
    "print('test samples shape:',X_test.shape)\n",
    "#print('sucess shape:', success)\n",
    "print('y-test shape:', Y_test.shape)\n",
    "print(principalDf_test.iloc[:,1].shape)"
   ]
  },
  {
   "cell_type": "code",
   "execution_count": 45,
   "metadata": {},
   "outputs": [
    {
     "data": {
      "text/plain": [
       "0.9107142857142857"
      ]
     },
     "execution_count": 45,
     "metadata": {},
     "output_type": "execute_result"
    }
   ],
   "source": [
    "pipeline.score(X_train, y_train) #Sucessful prediction rate applied to training data and compared to Y_train list. "
   ]
  },
  {
   "cell_type": "code",
   "execution_count": 46,
   "metadata": {
    "scrolled": true
   },
   "outputs": [
    {
     "data": {
      "text/plain": [
       "0.8833333333333333"
      ]
     },
     "execution_count": 46,
     "metadata": {},
     "output_type": "execute_result"
    }
   ],
   "source": [
    "pipeline.score(X_test, Y_test) #Sucessful prediction rate applied to test data and compared to Y_train list.  "
   ]
  },
  {
   "cell_type": "markdown",
   "metadata": {},
   "source": [
    "I then plot some of the data, the 240 Y_train positions."
   ]
  },
  {
   "cell_type": "code",
   "execution_count": 120,
   "metadata": {},
   "outputs": [
    {
     "data": {
      "image/png": "[encoded data removed]",
      "text/plain": [
       "<Figure size 432x288 with 1 Axes>"
      ]
     },
     "metadata": {
      "needs_background": "light"
     },
     "output_type": "display_data"
    }
   ],
   "source": [
    "plt.title(\"Test data positions \")\n",
    "plt.plot(principalDf_test.iloc[:,1], 'x')\n",
    "plt.show()\n"
   ]
  },
  {
   "cell_type": "markdown",
   "metadata": {},
   "source": [
    "And now the predictions positions. "
   ]
  },
  {
   "cell_type": "code",
   "execution_count": 125,
   "metadata": {},
   "outputs": [
    {
     "data": {
      "text/plain": [
       "<function matplotlib.pyplot.show(*args, **kw)>"
      ]
     },
     "execution_count": 125,
     "metadata": {},
     "output_type": "execute_result"
    },
    {
     "data": {
      "image/png": "[encoded data removed]",
      "text/plain": [
       "<Figure size 432x288 with 1 Axes>"
      ]
     },
     "metadata": {
      "needs_background": "light"
     },
     "output_type": "display_data"
    }
   ],
   "source": [
    "plt.title(\"Test data predictions matches \")\n",
    "plt.plot(principalDf_test.iloc[Y_success_idx,1], 'or')\n",
    "plt.show"
   ]
  },
  {
   "cell_type": "code",
   "execution_count": 128,
   "metadata": {
    "scrolled": true
   },
   "outputs": [
    {
     "data": {
      "image/png": "[encoded data removed]",
      "text/plain": [
       "<Figure size 432x288 with 1 Axes>"
      ]
     },
     "metadata": {
      "needs_background": "light"
     },
     "output_type": "display_data"
    }
   ],
   "source": [
    "plt.title(\"Test data positions and predictions overimposed \")\n",
    "plt.plot(principalDf_test.iloc[:,1], 'x')\n",
    "plt.plot(principalDf_test.iloc[Y_success_idx,1], 'or')\n",
    "plt.show()"
   ]
  },
  {
   "cell_type": "code",
   "execution_count": 127,
   "metadata": {},
   "outputs": [
    {
     "data": {
      "text/plain": [
       "[<matplotlib.lines.Line2D at 0x25e33d6c208>]"
      ]
     },
     "execution_count": 127,
     "metadata": {},
     "output_type": "execute_result"
    },
    {
     "data": {
      "image/png": "[encoded data removed]",
      "text/plain": [
       "<Figure size 432x288 with 4 Axes>"
      ]
     },
     "metadata": {
      "needs_background": "light"
     },
     "output_type": "display_data"
    }
   ],
   "source": [
    "f, ((ax1, ax2), (ax3, ax4)) = plt.subplots(2, 2)\n",
    "f.suptitle('Positions and predictions compared')\n",
    "ax1.plot(principalDf_test.iloc[:,1], 'x')\n",
    "ax2.plot(principalDf_test.iloc[Y_success_idx,1], 'or')\n"
   ]
  },
  {
   "cell_type": "code",
   "execution_count": null,
   "metadata": {},
   "outputs": [],
   "source": []
  }
 ],
 "metadata": {
  "kernelspec": {
   "display_name": "Python 3",
   "language": "python",
   "name": "python3"
  },
  "language_info": {
   "codemirror_mode": {
    "name": "ipython",
    "version": 3
   },
   "file_extension": ".py",
   "mimetype": "text/x-python",
   "name": "python",
   "nbconvert_exporter": "python",
   "pygments_lexer": "ipython3",
   "version": "3.7.3"
  }
 },
 "nbformat": 4,
 "nbformat_minor": 2
}
