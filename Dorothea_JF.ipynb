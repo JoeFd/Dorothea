{
 "cells": [
  {
   "cell_type": "markdown",
   "metadata": {},
   "source": [
    "## Analysis of the Dorothea dataset - Joe Ford code\n",
    "\n",
    "This code contains several lines marked #VARIABLE. The values of these lines may be altered to optimise the analysis."
   ]
  },
  {
   "cell_type": "markdown",
   "metadata": {},
   "source": [
    "## Import Functions\n",
    "\n",
    "The following functions are all required for this analysis.\n",
    "\n",
    "The analysis has been completed for the dorothea_smaller dataset, which is a 800x10001 matrix."
   ]
  },
  {
   "cell_type": "code",
   "execution_count": 2,
   "metadata": {},
   "outputs": [],
   "source": [
    "import pandas as pd\n",
    "import numpy as np\n",
    "import matplotlib.pyplot as plt\n",
    "%matplotlib inline\n",
    "from sklearn import decomposition, cluster\n",
    "from sklearn.preprocessing import StandardScaler\n",
    "from sklearn.model_selection import train_test_split\n",
    "\n",
    "np.random.seed(28)\n",
    "\n",
    "data = pd.read_csv(\"dorothea_smaller.csv\")"
   ]
  },
  {
   "cell_type": "markdown",
   "metadata": {},
   "source": [
    "Separating the dataset into two matrices:\n",
    "\n",
    "1) data_in (800x10000) contains the measurable properties of each compound. Values = 0, 1.\n",
    "\n",
    "2) data_out (800x1) contains the activity/inactivity of that compound to the given receptor. Values = -1, 1."
   ]
  },
  {
   "cell_type": "code",
   "execution_count": 3,
   "metadata": {},
   "outputs": [],
   "source": [
    "data_in = data.drop(columns = ['y.train','Unnamed: 0'])\n",
    "data_out = pd.DataFrame(data['y.train'])"
   ]
  },
  {
   "cell_type": "markdown",
   "metadata": {},
   "source": [
    "# Dimension Reduction"
   ]
  },
  {
   "cell_type": "markdown",
   "metadata": {},
   "source": [
    "This section reduces the number of variables from 10000, in the first pass to 1079, and in the second pass to 234.\n",
    "\n",
    "This reduced dimensionality allows for easier analysis of the data.\n",
    "\n",
    "The first pass removes variables that do not contain sufficient data to draw conclusions. If a variable has a value of \"0\" for all 800 compounds, then there cannot be any deduction on its effect on a compound's abaility to bind to the receptor. Likewise, if there is variable that has a value of \"1\" for 1 compound, and \"0\" for the other 799, still no meaningful deductions can be made. The lower limit, i.e. the minimum number of compounds to have a value of \"1\" for a given variable in order for a meaningful conclusion to be made about that variable, has been set as 2% of the population (16 compounds)."
   ]
  },
  {
   "cell_type": "code",
   "execution_count": 6,
   "metadata": {},
   "outputs": [],
   "source": [
    "l_bound = 0.02  #VARIABLE\n",
    "u_bound = 1 - l_bound"
   ]
  },
  {
   "cell_type": "markdown",
   "metadata": {},
   "source": [
    "This 'for' loop cycles through each of the 10000 variables, stripping out those that do not contain sufficient data.\n",
    "\n",
    "NOTE: This may take several minutes to complete."
   ]
  },
  {
   "cell_type": "code",
   "execution_count": 7,
   "metadata": {
    "scrolled": true
   },
   "outputs": [
    {
     "name": "stdout",
     "output_type": "stream",
     "text": [
      "Variables: 1074\n"
     ]
    }
   ],
   "source": [
    "data_cut = data_in\n",
    "\n",
    "for i in range(len(data_in.columns)):\n",
    "    if sum(data_in.iloc[:,i]) <= (l_bound * len(data_in)):\n",
    "        data_cut = data_cut.drop(data_in.columns[i], axis=1)\n",
    "    elif sum(data_in.iloc[:,i]) >= (u_bound * len(data_in)):\n",
    "        data_cut = data_cut.drop(data_in.columns[i], axis=1)\n",
    "\n",
    "data_cut.to_csv('data_cut.csv')\n",
    "\n",
    "print(\"Variables: \" + str(len(data_cut.columns)))"
   ]
  },
  {
   "cell_type": "markdown",
   "metadata": {},
   "source": [
    "\"data_mod\" allows for the reduced dataset to be recalled for future analyses without requiring to go through the above 'for' loop again:"
   ]
  },
  {
   "cell_type": "code",
   "execution_count": 8,
   "metadata": {},
   "outputs": [],
   "source": [
    "data_mod = pd.read_csv(\"data_cut.csv\")\n",
    "data_mod = data_mod.drop(columns = ['Unnamed: 0'])"
   ]
  },
  {
   "cell_type": "markdown",
   "metadata": {},
   "source": [
    "The second pass for the dimension reduction is a Principal Components Analysis (PCA).\n",
    "\n",
    "The 'for' loop incrementally increases the number of PCA components by 1, calculating the variance retained when compared to the \"data_mod\" data at each iteration, until a minimum threshhold of retained variance is achieved. This threshhold has been set as 60%.\n",
    "\n",
    "NOTE: This takes approximately 2 minutes to complete."
   ]
  },
  {
   "cell_type": "code",
   "execution_count": 10,
   "metadata": {},
   "outputs": [
    {
     "name": "stderr",
     "output_type": "stream",
     "text": [
      "C:\\Users\\Owner\\Anaconda3\\lib\\site-packages\\sklearn\\utils\\validation.py:595: DataConversionWarning: Data with input dtype int64 was converted to float64 by StandardScaler.\n",
      "  warnings.warn(msg, DataConversionWarning)\n",
      "C:\\Users\\Owner\\Anaconda3\\lib\\site-packages\\sklearn\\utils\\validation.py:595: DataConversionWarning: Data with input dtype int64 was converted to float64 by StandardScaler.\n",
      "  warnings.warn(msg, DataConversionWarning)\n"
     ]
    },
    {
     "name": "stdout",
     "output_type": "stream",
     "text": [
      "No. Components: 234   Retained Variance: 0.601\n"
     ]
    }
   ],
   "source": [
    "var_tgt = 0.6 #VARIABLE\n",
    "sum_var = 0 #Variance retained for each iteration - this is reset to zero for the 'for' loop to fucntion correctly\n",
    "\n",
    "x=StandardScaler().fit_transform(data_mod.values)\n",
    "\n",
    "for j in range(1, len(data_mod.columns) - 1):\n",
    "    if sum_var < var_tgt:\n",
    "        n_PCA = j\n",
    "        data_pca = decomposition.PCA(n_components = n_PCA)\n",
    "        principalComponents = data_pca.fit_transform(x)\n",
    "        var = data_pca.explained_variance_ratio_\n",
    "        sum_var += var[j - 1]\n",
    "\n",
    "print(\"No. Components: \" + str(n_PCA) +\n",
    "    \"   Retained Variance: \" + str(round(sum_var, 3)))"
   ]
  },
  {
   "cell_type": "markdown",
   "metadata": {},
   "source": [
    "\"data_pca.components_\" is a 234x1074 matrix. Each row represents one of the PCA components, and is an array of coefficients for each of the variables from the first pass of the dimension reduction.\n",
    "\n",
    "For a given compound, the 1074 variables are multiplied by their respective coefficients in the first row of this matrix; this gives the first principal component. This is repeated for the other 233 rows, resulting in the compound being described only by its 234 principal components."
   ]
  },
  {
   "cell_type": "code",
   "execution_count": 17,
   "metadata": {
    "scrolled": false
   },
   "outputs": [
    {
     "data": {
      "text/plain": [
       "array([[ 0.00551334,  0.01499317, -0.01002254, ..., -0.0122747 ,\n",
       "         0.00512307,  0.00015342],\n",
       "       [-0.00608844, -0.02473384,  0.01346442, ..., -0.00394191,\n",
       "         0.0456591 ,  0.0056211 ],\n",
       "       [-0.01234954,  0.00220868, -0.00668515, ...,  0.00349111,\n",
       "        -0.0170561 ,  0.01166838],\n",
       "       ...,\n",
       "       [ 0.00879532, -0.03100332,  0.00405689, ..., -0.06112191,\n",
       "         0.00118782, -0.04210603],\n",
       "       [-0.01218119,  0.03589251,  0.00943805, ...,  0.01536057,\n",
       "         0.00625438, -0.04970605],\n",
       "       [-0.04729628, -0.03597112,  0.07589917, ..., -0.00116206,\n",
       "        -0.00298179,  0.02656553]])"
      ]
     },
     "execution_count": 17,
     "metadata": {},
     "output_type": "execute_result"
    }
   ],
   "source": [
    "data_pca.components_"
   ]
  },
  {
   "cell_type": "markdown",
   "metadata": {},
   "source": [
    "# Clustering"
   ]
  },
  {
   "cell_type": "markdown",
   "metadata": {},
   "source": [
    "This section aims to group the 800 compounds in the Dorothea dataset into clusters, in order to see if there is a pattern between which cluster a compound falls within and its activity/inactivity.\n",
    "\n",
    "k-means clustering has been used for this analysis. The number of clusters has been set at 3."
   ]
  },
  {
   "cell_type": "code",
   "execution_count": 24,
   "metadata": {
    "scrolled": true
   },
   "outputs": [
    {
     "data": {
      "text/plain": [
       "KMeans(algorithm='auto', copy_x=True, init='k-means++', max_iter=300,\n",
       "    n_clusters=3, n_init=10, n_jobs=None, precompute_distances='auto',\n",
       "    random_state=None, tol=0.0001, verbose=0)"
      ]
     },
     "execution_count": 24,
     "metadata": {},
     "output_type": "execute_result"
    }
   ],
   "source": [
    "n_clusters = 3 #VARIABLE\n",
    "\n",
    "principalDf = pd.DataFrame(data = principalComponents) #This is the 800 compounds in the dataset, reduced to their 234 principal components\n",
    "\n",
    "kmeans= cluster.KMeans(n_clusters = n_clusters)\n",
    "kmeans.fit(principalDf)"
   ]
  },
  {
   "cell_type": "markdown",
   "metadata": {},
   "source": [
    "A 'crosstab' groups the data to show how many compounds from each cluster are active (i.e. bind to the given receptor) or inactive.\n",
    "\n",
    "The clusters are numbered incrementally from 0; the activity is denoted by -1 (inactive) or 1 (active)."
   ]
  },
  {
   "cell_type": "code",
   "execution_count": 25,
   "metadata": {
    "scrolled": true
   },
   "outputs": [
    {
     "data": {
      "text/html": [
       "<div>\n",
       "<style scoped>\n",
       "    .dataframe tbody tr th:only-of-type {\n",
       "        vertical-align: middle;\n",
       "    }\n",
       "\n",
       "    .dataframe tbody tr th {\n",
       "        vertical-align: top;\n",
       "    }\n",
       "\n",
       "    .dataframe thead th {\n",
       "        text-align: right;\n",
       "    }\n",
       "</style>\n",
       "<table border=\"1\" class=\"dataframe\">\n",
       "  <thead>\n",
       "    <tr style=\"text-align: right;\">\n",
       "      <th>col_0</th>\n",
       "      <th>-1</th>\n",
       "      <th>1</th>\n",
       "    </tr>\n",
       "    <tr>\n",
       "      <th>row_0</th>\n",
       "      <th></th>\n",
       "      <th></th>\n",
       "    </tr>\n",
       "  </thead>\n",
       "  <tbody>\n",
       "    <tr>\n",
       "      <th>0</th>\n",
       "      <td>14</td>\n",
       "      <td>43</td>\n",
       "    </tr>\n",
       "    <tr>\n",
       "      <th>1</th>\n",
       "      <td>654</td>\n",
       "      <td>35</td>\n",
       "    </tr>\n",
       "    <tr>\n",
       "      <th>2</th>\n",
       "      <td>54</td>\n",
       "      <td>0</td>\n",
       "    </tr>\n",
       "  </tbody>\n",
       "</table>\n",
       "</div>"
      ],
      "text/plain": [
       "col_0   -1   1\n",
       "row_0         \n",
       "0       14  43\n",
       "1      654  35\n",
       "2       54   0"
      ]
     },
     "execution_count": 25,
     "metadata": {},
     "output_type": "execute_result"
    }
   ],
   "source": [
    "clust = kmeans.labels_\n",
    "activity = data_out.values.flatten()\n",
    "pd.crosstab(clust, activity)"
   ]
  },
  {
   "cell_type": "markdown",
   "metadata": {},
   "source": [
    "The majority (>86%) are within cluster 1, demonstrating that it is difficult to separate the compounds into different groups. With a cluster that contains so much of the original dataset, it is difficult to draw any predictions about the activity/inactivity of a compound within this cluster.\n",
    "\n",
    "However, if a new compound (e.g. compound 801) is measured then reduced to its 234 principal components, and found to belong to clusters 0 or 2, then conclusions could be drawn. If cluster 0, there is a 75% probability that the compound will be active; if cluster 2, there is a very high probability the the compound will be inactive. However, due to the small numbers of compounds in the test data that fit within these clusters, these predictions cannot be made with a high degree of accuracy.\n",
    "\n",
    "To understand the relationship between principal components, and therefore which ones may have the largest impact on a compound's clustering, it is useful to plot 2D graphs of the principal components. In order to do this for all 234 principal components plotted against one another, one would need to plot 27261 graphs! One example is shown:"
   ]
  },
  {
   "cell_type": "code",
   "execution_count": 31,
   "metadata": {
    "scrolled": true
   },
   "outputs": [
    {
     "data": {
      "text/plain": [
       "Text(0, 0.5, 'Principal Component 2')"
      ]
     },
     "execution_count": 31,
     "metadata": {},
     "output_type": "execute_result"
    },
    {
     "data": {
      "image/png": "[encoded data removed]",
      "text/plain": [
       "<Figure size 432x288 with 1 Axes>"
      ]
     },
     "metadata": {
      "needs_background": "light"
     },
     "output_type": "display_data"
    }
   ],
   "source": [
    "clust0=np.where(kmeans.labels_ == 0)\n",
    "clust1=np.where(kmeans.labels_ == 1)\n",
    "clust2=np.where(kmeans.labels_ == 2)\n",
    "\n",
    "plt.scatter(principalDf[0].iloc[clust0],principalDf[1].iloc[clust0],label=\"cluster 0\",c=\"b\")\n",
    "plt.scatter(principalDf[0].iloc[clust1],principalDf[1].iloc[clust1],label=\"cluster 1\",c=\"r\")\n",
    "plt.scatter(principalDf[0].iloc[clust2],principalDf[1].iloc[clust2],label=\"cluster 2\",c=\"g\")\n",
    "plt.legend()\n",
    "plt.xlabel(\"Principal Component 1\")\n",
    "plt.ylabel(\"Principal Component 2\")"
   ]
  },
  {
   "cell_type": "markdown",
   "metadata": {},
   "source": [
    "In this example, it can be seen that if a compound has Principal Component 1 greater than approximately 7, it is likely to fall within cluster 2, and therefore highly likely to be inactive, in line with the conclusions from the crosstab."
   ]
  },
  {
   "cell_type": "markdown",
   "metadata": {},
   "source": [
    "# Neural Network"
   ]
  },
  {
   "cell_type": "markdown",
   "metadata": {},
   "source": [
    "A second method of predicting a compound's activity/inactivity is through machine learning: an algorithm-based approach where the code learns over a number of iterations in order to increase its accuracy.\n",
    "\n",
    "The code below is for an Artificial Neural Network (ANN) based on the sigmoid function.\n",
    "\n",
    "This ANN works with the \"data_mod\" dataset (i.e. the reduced dataset after the first pass of dimension reduction - 1074 variables) rather than the dataset that only retains 60% variance, to increase the accuracy of the model."
   ]
  },
  {
   "cell_type": "code",
   "execution_count": 32,
   "metadata": {},
   "outputs": [],
   "source": [
    "inputs = data_mod.to_numpy()"
   ]
  },
  {
   "cell_type": "markdown",
   "metadata": {},
   "source": [
    "The desired outputs of the ANN are transformed into a 800x2 matrix. Active compounds are signified by rows [1,0] and inactive compounds are signified by rows [0,1]."
   ]
  },
  {
   "cell_type": "code",
   "execution_count": 33,
   "metadata": {},
   "outputs": [],
   "source": [
    "data_out_mod1 = (data_out + 1) / 2 #Inactive = 0, Active = 1\n",
    "data_out_mod2 = 0.5 - (data_out / 2) #Inactive = 1, Active = 0\n",
    "outputs = np.concatenate((data_out_mod1, data_out_mod2), axis=1)"
   ]
  },
  {
   "cell_type": "markdown",
   "metadata": {},
   "source": [
    "The data is split into two: one set is for training the ANN, the other is for testing it to determine its accuracy.\n",
    "\n",
    "The test data has been set as 25% of the original dataset (200 compounds)."
   ]
  },
  {
   "cell_type": "code",
   "execution_count": 34,
   "metadata": {},
   "outputs": [],
   "source": [
    "test_size = 0.25 #VARIABLE\n",
    "train_x, test_x, train_y, test_y = train_test_split(inputs, outputs, test_size = test_size, random_state = 28)"
   ]
  },
  {
   "cell_type": "markdown",
   "metadata": {},
   "source": [
    "The following code is the ANN:"
   ]
  },
  {
   "cell_type": "code",
   "execution_count": 35,
   "metadata": {},
   "outputs": [],
   "source": [
    "def sigmoid(x):\n",
    "    # This is not strictly sigmoid, but more stable when handling matrices\n",
    "    return .5 * (1 + np.tanh(.5 * x))\n",
    "def sigmoid_deriv(x):\n",
    "    return sigmoid(x) * (1 - sigmoid(x))\n",
    "\n",
    "learning_rate = 0.001 #VARIABLE\n",
    "num_epochs = 5000 #VARIABLE\n",
    "\n",
    "# Network architecture parameters\n",
    "num_features = len(train_x[0])\n",
    "num_classes = len(train_y[0])\n",
    "num_hidden_nodes = 8 #VARIABLE\n",
    "\n",
    "# Initialise weights in the range -1 to 1\n",
    "# Hidden layer weights with shape = number of input features x number of hidden nodes\n",
    "hidden_weights = np.random.uniform(-1, 1, size=(num_features, num_hidden_nodes))\n",
    "hidden_bias = np.random.uniform(-1, 1, size=(1, num_hidden_nodes))\n",
    "# Output layer weights with shape = number of hidden nodes x number of output classes\n",
    "output_weights = np.random.uniform(-1, 1, size=(num_hidden_nodes, num_classes))\n",
    "output_bias = np.random.uniform(-1, 1, size=(1, num_classes))\n",
    "\n",
    "# For recording error and accuracy - for graph later\n",
    "training_errors = []\n",
    "testing_errors = []\n",
    "training_accuracies = []\n",
    "testing_accuracies = []\n",
    "\n",
    "# Train for number of epochs\n",
    "for epoch in range(num_epochs):\n",
    "\n",
    "    # Forward pass\n",
    "    input_layer = train_x\n",
    "    # sigmoid( (W * X) + b)\n",
    "    hidden_layer = sigmoid(np.dot(input_layer, hidden_weights) + hidden_bias)\n",
    "    output_layer = sigmoid(np.dot(hidden_layer, output_weights) + output_bias)\n",
    "\n",
    "    # Backpropagation using gradient descent\n",
    "    # Calculate output layer error\n",
    "    output_layer_error = train_y - output_layer\n",
    "    # Calculate output layer derivative Note: that we just need this layers error for the bias\n",
    "    output_layer_delta = output_layer_error * sigmoid_deriv(output_layer)\n",
    "    output_bias_delta = np.sum(output_layer_error, axis=0)\n",
    "    \n",
    "    # Calculate hidden layer error (from the output layers weights and derivative\n",
    "    hidden_layer_error = output_layer_delta.dot(output_weights.T)\n",
    "    hidden_layer_delta = hidden_layer_error * sigmoid_deriv(hidden_layer)\n",
    "    hidden_bias_delta = np.sum(hidden_layer_error, axis=0)\n",
    "\n",
    "    # Update the weights (learning rate X layers input X layers derivative)\n",
    "    output_weights += learning_rate * hidden_layer.T.dot(output_layer_delta)\n",
    "    output_bias += learning_rate * output_bias_delta\n",
    "    \n",
    "    hidden_weights += learning_rate * input_layer.T.dot(hidden_layer_delta)\n",
    "    hidden_bias += learning_rate * hidden_bias_delta\n",
    "\n",
    "    # Every 100 epochs record error and accuracy during training\n",
    "    if (epoch % 100) == 0:\n",
    "        \n",
    "        # Mean squared error over all errors this epoch\n",
    "        error = 0.5 * np.mean(np.abs(output_layer_error)) ** 2\n",
    "        training_errors.append(error)\n",
    "\n",
    "        accuracy_count = 0\n",
    "        for i in range(len(output_layer)):\n",
    "          \n",
    "            # Get the prediction i.e. the output with the highest value\n",
    "            prediction = np.argmax(output_layer[i])\n",
    "            # Get the actual label\n",
    "            actual_label = np.argmax(train_y[i])\n",
    "            \n",
    "            # If they match the prediction was correct\n",
    "            if prediction == actual_label:\n",
    "                accuracy_count += 1\n",
    "        accuracy = (100 / len(train_x)) * accuracy_count\n",
    "        training_accuracies.append(accuracy)\n",
    "        \n",
    "        # Input test data to determine testing errors\n",
    "        input_layer_test = test_x\n",
    "        hidden_layer_test = sigmoid(np.dot(input_layer_test, hidden_weights) + hidden_bias)\n",
    "        output_layer_test = sigmoid(np.dot(hidden_layer_test, output_weights) + output_bias)\n",
    "        \n",
    "        output_layer_error_test = test_y - output_layer_test\n",
    "        error_test = 0.5 * np.mean(np.abs(output_layer_error_test)) ** 2\n",
    "        testing_errors.append(error_test)\n",
    "        \n",
    "        accuracy_count_test = 0\n",
    "        for i in range(len(output_layer_test)):\n",
    "          \n",
    "            prediction_test = np.argmax(output_layer_test[i])\n",
    "            actual_label_test = np.argmax(test_y[i])\n",
    "            \n",
    "            if prediction_test == actual_label_test:\n",
    "                accuracy_count_test += 1\n",
    "        accuracy_test = (100 / len(test_x)) * accuracy_count_test\n",
    "        testing_accuracies.append(accuracy_test)\n",
    "        \n",
    "        \n",
    "#        print(\"Epoch: \" + str(epoch) +\n",
    "#              \" Error: \" + str(round(error, 5)) +\n",
    "#              \" Accuracy: \" + str(round(accuracy, 3)) + \"%\" +\n",
    "#              \" T_Error: \" + str(round(error_test, 5)) +\n",
    "#              \" T_Accuracy: \" + str(round(accuracy_test, 3)) + \"%\")\n",
    "                \n"
   ]
  },
  {
   "cell_type": "code",
   "execution_count": 38,
   "metadata": {},
   "outputs": [
    {
     "data": {
      "image/png": "[encoded data removed]",
      "text/plain": [
       "<Figure size 432x288 with 1 Axes>"
      ]
     },
     "metadata": {
      "needs_background": "light"
     },
     "output_type": "display_data"
    }
   ],
   "source": [
    "plt.plot(training_errors)\n",
    "plt.plot(testing_errors)\n",
    "plt.xlabel('Epochs')\n",
    "plt.ylabel('Error')\n",
    "plt.show()"
   ]
  },
  {
   "cell_type": "code",
   "execution_count": 39,
   "metadata": {},
   "outputs": [
    {
     "data": {
      "image/png": "[encoded data removed]",
      "text/plain": [
       "<Figure size 432x288 with 1 Axes>"
      ]
     },
     "metadata": {
      "needs_background": "light"
     },
     "output_type": "display_data"
    }
   ],
   "source": [
    "plt.plot(training_accuracies)\n",
    "plt.plot(testing_accuracies)\n",
    "plt.xlabel('Epochs')\n",
    "plt.ylabel('Accuracy')\n",
    "plt.show()"
   ]
  },
  {
   "cell_type": "markdown",
   "metadata": {},
   "source": [
    "The ANN is able to predict a compound's activity/inactivity to an accuracy of 90%, although this may be increased through the optimisation of input variables."
   ]
  }
 ],
 "metadata": {
  "kernelspec": {
   "display_name": "Python 3",
   "language": "python",
   "name": "python3"
  },
  "language_info": {
   "codemirror_mode": {
    "name": "ipython",
    "version": 3
   },
   "file_extension": ".py",
   "mimetype": "text/x-python",
   "name": "python",
   "nbconvert_exporter": "python",
   "pygments_lexer": "ipython3",
   "version": "3.7.3"
  }
 },
 "nbformat": 4,
 "nbformat_minor": 2
}
