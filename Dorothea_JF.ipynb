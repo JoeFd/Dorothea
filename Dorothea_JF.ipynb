{
 "cells": [
  {
   "cell_type": "code",
   "execution_count": 1,
   "metadata": {},
   "outputs": [],
   "source": [
    "import pandas as pd\n",
    "import numpy as np\n",
    "import matplotlib.pyplot as plt\n",
    "%matplotlib inline\n",
    "\n",
    "data = pd.read_csv(\"dorothea_smaller.csv\")"
   ]
  },
  {
   "cell_type": "code",
   "execution_count": 2,
   "metadata": {},
   "outputs": [],
   "source": [
    "data_out = pd.DataFrame(data['y.train'])\n",
    "data_in = data.drop(columns = ['y.train','Unnamed: 0'])"
   ]
  },
  {
   "cell_type": "code",
   "execution_count": 3,
   "metadata": {},
   "outputs": [],
   "source": [
    "l_bound = 0.05  #If data varies in less than 5% of cases, it is deemed not significant\n",
    "u_bound = 1 - l_bound\n",
    "data_cut = data_in"
   ]
  },
  {
   "cell_type": "code",
   "execution_count": 35,
   "metadata": {
    "scrolled": true
   },
   "outputs": [
    {
     "name": "stdout",
     "output_type": "stream",
     "text": [
      "Variables: 123\n"
     ]
    }
   ],
   "source": [
    "for i in range(len(data_in.columns)):  #Note: this loop takes approx. 9 mins to run (for my crappy laptop)\n",
    "    if sum(data_in.iloc[:,i]) <= (l_bound * len(data_in)):\n",
    "        data_cut = data_cut.drop(data_in.columns[i], axis=1)\n",
    "    elif sum(data_in.iloc[:,i]) >= (u_bound * len(data_in)):\n",
    "        data_cut = data_cut.drop(data_in.columns[i], axis=1)\n",
    "\n",
    "data_cut.to_csv('data_cut.csv')\n",
    "\n",
    "print(\"Variables: \" + str(len(data_cut.columns)))"
   ]
  },
  {
   "cell_type": "code",
   "execution_count": 4,
   "metadata": {},
   "outputs": [],
   "source": [
    "data_mod = pd.read_csv(\"data_cut.csv\")\n",
    "#df.insert(124,\"Output\",data_out,True)\n",
    "data_mod = data_mod.drop(columns = ['Unnamed: 0'])"
   ]
  },
  {
   "cell_type": "code",
   "execution_count": 5,
   "metadata": {},
   "outputs": [],
   "source": [
    "from sklearn.preprocessing import StandardScaler\n",
    "from sklearn import decomposition"
   ]
  },
  {
   "cell_type": "code",
   "execution_count": 61,
   "metadata": {},
   "outputs": [
    {
     "name": "stderr",
     "output_type": "stream",
     "text": [
      "C:\\Users\\Owner\\Anaconda3\\lib\\site-packages\\sklearn\\utils\\validation.py:595: DataConversionWarning: Data with input dtype int64 was converted to float64 by StandardScaler.\n",
      "  warnings.warn(msg, DataConversionWarning)\n",
      "C:\\Users\\Owner\\Anaconda3\\lib\\site-packages\\sklearn\\utils\\validation.py:595: DataConversionWarning: Data with input dtype int64 was converted to float64 by StandardScaler.\n",
      "  warnings.warn(msg, DataConversionWarning)\n"
     ]
    }
   ],
   "source": [
    "n_PCA = 10 #Number of Principal Components\n",
    "\n",
    "x=StandardScaler().fit_transform(data_mod.values)\n",
    "data_pca = decomposition.PCA(n_components = n_PCA)\n",
    "principalComponents = data_pca.fit_transform(x)"
   ]
  },
  {
   "cell_type": "code",
   "execution_count": 62,
   "metadata": {},
   "outputs": [],
   "source": [
    "var = data_pca.explained_variance_ratio_\n",
    "sum_var = 0\n",
    "for i in range(len(var)):\n",
    "    sum_var = sum_var + var[i]"
   ]
  },
  {
   "cell_type": "code",
   "execution_count": 63,
   "metadata": {},
   "outputs": [
    {
     "data": {
      "text/plain": [
       "0.15633008223919276"
      ]
     },
     "execution_count": 63,
     "metadata": {},
     "output_type": "execute_result"
    }
   ],
   "source": [
    "sum_var"
   ]
  },
  {
   "cell_type": "code",
   "execution_count": null,
   "metadata": {},
   "outputs": [],
   "source": [
    "from sklearn.model_selection import train_test_split"
   ]
  },
  {
   "cell_type": "code",
   "execution_count": 25,
   "metadata": {},
   "outputs": [],
   "source": [
    "inputs = data_mod.to_numpy()"
   ]
  },
  {
   "cell_type": "code",
   "execution_count": 26,
   "metadata": {},
   "outputs": [],
   "source": [
    "data_out_mod1 = (data_out + 1) / 2 #Inactive = 0, Active = 1\n",
    "data_out_mod2 = 0.5 - (data_out / 2) #Inactive = 1, Active = 0\n",
    "outputs = np.concatenate((data_out_mod1,data_out_mod2),axis=1)"
   ]
  },
  {
   "cell_type": "code",
   "execution_count": 27,
   "metadata": {},
   "outputs": [],
   "source": [
    "train_x, test_x, train_y, test_y = train_test_split(inputs, outputs, test_size=0.25, random_state=28)"
   ]
  },
  {
   "cell_type": "code",
   "execution_count": 58,
   "metadata": {},
   "outputs": [
    {
     "name": "stdout",
     "output_type": "stream",
     "text": [
      "Epoch: 0 Error: 0.19651 Accuracy: 9.833% T_Error: 0.1386 T_Accuracy: 36.5%\n",
      "Epoch: 100 Error: 0.01472 Accuracy: 90.5% T_Error: 0.01632 T_Accuracy: 89.5%\n",
      "Epoch: 200 Error: 0.01434 Accuracy: 90.5% T_Error: 0.01601 T_Accuracy: 89.5%\n",
      "Epoch: 300 Error: 0.01392 Accuracy: 90.5% T_Error: 0.01565 T_Accuracy: 89.5%\n",
      "Epoch: 400 Error: 0.01339 Accuracy: 90.5% T_Error: 0.01516 T_Accuracy: 89.5%\n",
      "Epoch: 500 Error: 0.01269 Accuracy: 90.5% T_Error: 0.01447 T_Accuracy: 89.5%\n",
      "Epoch: 600 Error: 0.01179 Accuracy: 90.5% T_Error: 0.01355 T_Accuracy: 89.5%\n",
      "Epoch: 700 Error: 0.01073 Accuracy: 90.5% T_Error: 0.01245 T_Accuracy: 89.5%\n",
      "Epoch: 800 Error: 0.00962 Accuracy: 90.667% T_Error: 0.01128 T_Accuracy: 89.5%\n",
      "Epoch: 900 Error: 0.00859 Accuracy: 91.833% T_Error: 0.0102 T_Accuracy: 90.5%\n",
      "Epoch: 1000 Error: 0.00772 Accuracy: 93.167% T_Error: 0.00928 T_Accuracy: 92.0%\n",
      "Epoch: 1100 Error: 0.00701 Accuracy: 93.5% T_Error: 0.00853 T_Accuracy: 92.0%\n",
      "Epoch: 1200 Error: 0.00643 Accuracy: 93.833% T_Error: 0.00793 T_Accuracy: 93.0%\n",
      "Epoch: 1300 Error: 0.00598 Accuracy: 94.333% T_Error: 0.00746 T_Accuracy: 93.5%\n",
      "Epoch: 1400 Error: 0.0056 Accuracy: 94.5% T_Error: 0.00708 T_Accuracy: 94.0%\n",
      "Epoch: 1500 Error: 0.00529 Accuracy: 94.5% T_Error: 0.00678 T_Accuracy: 94.0%\n",
      "Epoch: 1600 Error: 0.00503 Accuracy: 94.5% T_Error: 0.00654 T_Accuracy: 94.5%\n",
      "Epoch: 1700 Error: 0.0048 Accuracy: 94.5% T_Error: 0.00634 T_Accuracy: 94.5%\n",
      "Epoch: 1800 Error: 0.00461 Accuracy: 94.5% T_Error: 0.00618 T_Accuracy: 94.5%\n",
      "Epoch: 1900 Error: 0.00443 Accuracy: 94.667% T_Error: 0.00605 T_Accuracy: 94.5%\n",
      "Epoch: 2000 Error: 0.00427 Accuracy: 94.667% T_Error: 0.00595 T_Accuracy: 94.5%\n",
      "Epoch: 2100 Error: 0.00413 Accuracy: 95.0% T_Error: 0.00586 T_Accuracy: 94.5%\n",
      "Epoch: 2200 Error: 0.004 Accuracy: 95.0% T_Error: 0.00579 T_Accuracy: 94.5%\n",
      "Epoch: 2300 Error: 0.00387 Accuracy: 94.833% T_Error: 0.00573 T_Accuracy: 94.5%\n",
      "Epoch: 2400 Error: 0.00376 Accuracy: 94.833% T_Error: 0.00568 T_Accuracy: 94.5%\n",
      "Epoch: 2500 Error: 0.00365 Accuracy: 94.833% T_Error: 0.00565 T_Accuracy: 94.5%\n",
      "Epoch: 2600 Error: 0.00354 Accuracy: 95.0% T_Error: 0.00562 T_Accuracy: 93.5%\n",
      "Epoch: 2700 Error: 0.00344 Accuracy: 95.167% T_Error: 0.0056 T_Accuracy: 93.5%\n",
      "Epoch: 2800 Error: 0.00335 Accuracy: 95.167% T_Error: 0.00558 T_Accuracy: 93.5%\n",
      "Epoch: 2900 Error: 0.00325 Accuracy: 95.333% T_Error: 0.00557 T_Accuracy: 93.5%\n",
      "Epoch: 3000 Error: 0.00317 Accuracy: 95.333% T_Error: 0.00557 T_Accuracy: 93.5%\n",
      "Epoch: 3100 Error: 0.00308 Accuracy: 95.333% T_Error: 0.00557 T_Accuracy: 93.5%\n",
      "Epoch: 3200 Error: 0.003 Accuracy: 95.5% T_Error: 0.00557 T_Accuracy: 92.5%\n",
      "Epoch: 3300 Error: 0.00292 Accuracy: 95.667% T_Error: 0.00558 T_Accuracy: 92.5%\n",
      "Epoch: 3400 Error: 0.00284 Accuracy: 95.833% T_Error: 0.00559 T_Accuracy: 92.5%\n",
      "Epoch: 3500 Error: 0.00277 Accuracy: 95.833% T_Error: 0.0056 T_Accuracy: 92.5%\n",
      "Epoch: 3600 Error: 0.0027 Accuracy: 95.833% T_Error: 0.00561 T_Accuracy: 93.0%\n",
      "Epoch: 3700 Error: 0.00263 Accuracy: 95.667% T_Error: 0.00563 T_Accuracy: 92.5%\n",
      "Epoch: 3800 Error: 0.00256 Accuracy: 95.667% T_Error: 0.00565 T_Accuracy: 92.5%\n",
      "Epoch: 3900 Error: 0.0025 Accuracy: 96.0% T_Error: 0.00567 T_Accuracy: 92.5%\n",
      "Epoch: 4000 Error: 0.00243 Accuracy: 96.167% T_Error: 0.00569 T_Accuracy: 92.5%\n",
      "Epoch: 4100 Error: 0.00237 Accuracy: 96.167% T_Error: 0.00572 T_Accuracy: 92.0%\n",
      "Epoch: 4200 Error: 0.00231 Accuracy: 96.167% T_Error: 0.00575 T_Accuracy: 91.5%\n",
      "Epoch: 4300 Error: 0.00226 Accuracy: 96.167% T_Error: 0.00577 T_Accuracy: 91.0%\n",
      "Epoch: 4400 Error: 0.0022 Accuracy: 96.0% T_Error: 0.0058 T_Accuracy: 91.0%\n",
      "Epoch: 4500 Error: 0.00215 Accuracy: 96.0% T_Error: 0.00583 T_Accuracy: 91.0%\n",
      "Epoch: 4600 Error: 0.0021 Accuracy: 96.167% T_Error: 0.00586 T_Accuracy: 91.0%\n",
      "Epoch: 4700 Error: 0.00204 Accuracy: 96.167% T_Error: 0.00589 T_Accuracy: 91.0%\n",
      "Epoch: 4800 Error: 0.002 Accuracy: 96.167% T_Error: 0.00592 T_Accuracy: 91.5%\n",
      "Epoch: 4900 Error: 0.00195 Accuracy: 96.333% T_Error: 0.00596 T_Accuracy: 91.5%\n"
     ]
    }
   ],
   "source": [
    "def sigmoid(x):\n",
    "    # This is not strictly sigmoid, but more stable when handling matrices\n",
    "    return .5 * (1 + np.tanh(.5 * x))\n",
    "def sigmoid_deriv(x):\n",
    "    return sigmoid(x) * (1 - sigmoid(x))\n",
    "\n",
    "learning_rate = 0.001\n",
    "num_epochs = 5000\n",
    "\n",
    "# Network architecture parameters\n",
    "num_features = len(train_x[0])\n",
    "num_classes = len(train_y[0])\n",
    "num_hidden_nodes = 8\n",
    "\n",
    "# Initialise weights in the range -1 to 1\n",
    "np.random.seed(28)\n",
    "# Hidden layer weights with shape = number of input features x number of hidden nodes\n",
    "hidden_weights = np.random.uniform(-1, 1, size=(num_features, num_hidden_nodes))\n",
    "hidden_bias = np.random.uniform(-1, 1, size=(1, num_hidden_nodes))\n",
    "# Output layer weights with shape = number of hidden nodes x number of output classes\n",
    "output_weights = np.random.uniform(-1, 1, size=(num_hidden_nodes, num_classes))\n",
    "output_bias = np.random.uniform(-1, 1, size=(1, num_classes))\n",
    "\n",
    "# For recording error and accuracy - for graph later\n",
    "training_errors = []\n",
    "testing_errors = []\n",
    "training_accuracies = []\n",
    "testing_accuracies = []\n",
    "\n",
    "# Train for number of epochs\n",
    "for epoch in range(num_epochs):\n",
    "\n",
    "    # Forward pass\n",
    "    input_layer = train_x\n",
    "    # sigmoid( (W * X) + b)\n",
    "    hidden_layer = sigmoid(np.dot(input_layer, hidden_weights) + hidden_bias)\n",
    "    output_layer = sigmoid(np.dot(hidden_layer, output_weights) + output_bias)\n",
    "\n",
    "    # Backpropagation using gradient descent\n",
    "    # Calculate output layer error\n",
    "    output_layer_error = train_y - output_layer\n",
    "    # Calculate output layer derivative Note: that we just need this layers error for the bias\n",
    "    output_layer_delta = output_layer_error * sigmoid_deriv(output_layer)\n",
    "    output_bias_delta = np.sum(output_layer_error, axis=0)\n",
    "    \n",
    "    # Calculate hidden layer error (from the output layers weights and derivative\n",
    "    hidden_layer_error = output_layer_delta.dot(output_weights.T)\n",
    "    hidden_layer_delta = hidden_layer_error * sigmoid_deriv(hidden_layer)\n",
    "    hidden_bias_delta = np.sum(hidden_layer_error, axis=0)\n",
    "\n",
    "    # Update the weights (learning rate X layers input X layers derivative)\n",
    "    output_weights += learning_rate * hidden_layer.T.dot(output_layer_delta)\n",
    "    output_bias += learning_rate * output_bias_delta\n",
    "    \n",
    "    hidden_weights += learning_rate * input_layer.T.dot(hidden_layer_delta)\n",
    "    hidden_bias += learning_rate * hidden_bias_delta\n",
    "\n",
    "    # Every 100 epochs record error and accuracy during training\n",
    "    if (epoch % 100) == 0:\n",
    "        \n",
    "        # Mean squared error over all errors this epoch\n",
    "        error = 0.5 * np.mean(np.abs(output_layer_error)) ** 2\n",
    "        training_errors.append(error)\n",
    "\n",
    "        accuracy_count = 0\n",
    "        for i in range(len(output_layer)):\n",
    "          \n",
    "            # Get the prediction i.e. the output with the highest value\n",
    "            prediction = np.argmax(output_layer[i])\n",
    "            # Get the actual label\n",
    "            actual_label = np.argmax(train_y[i])\n",
    "            \n",
    "            # If they match the prediction was correct\n",
    "            if prediction == actual_label:\n",
    "                accuracy_count += 1\n",
    "        accuracy = (100 / len(train_x)) * accuracy_count\n",
    "        training_accuracies.append(accuracy)\n",
    "        \n",
    "        # Input test data to determine testing errors\n",
    "        input_layer_test = test_x\n",
    "        hidden_layer_test = sigmoid(np.dot(input_layer_test, hidden_weights) + hidden_bias)\n",
    "        output_layer_test = sigmoid(np.dot(hidden_layer_test, output_weights) + output_bias)\n",
    "        \n",
    "        output_layer_error_test = test_y - output_layer_test\n",
    "        error_test = 0.5 * np.mean(np.abs(output_layer_error_test)) ** 2\n",
    "        testing_errors.append(error_test)\n",
    "        \n",
    "        accuracy_count_test = 0\n",
    "        for i in range(len(output_layer_test)):\n",
    "          \n",
    "            prediction_test = np.argmax(output_layer_test[i])\n",
    "            actual_label_test = np.argmax(test_y[i])\n",
    "            \n",
    "            if prediction_test == actual_label_test:\n",
    "                accuracy_count_test += 1\n",
    "        accuracy_test = (100 / len(test_x)) * accuracy_count_test\n",
    "        testing_accuracies.append(accuracy_test)\n",
    "        \n",
    "        \n",
    "#        print(\"Epoch: \" + str(epoch) +\n",
    "#              \" Error: \" + str(round(error, 5)) +\n",
    "#              \" Accuracy: \" + str(round(accuracy, 3)) + \"%\" +\n",
    "#              \" T_Error: \" + str(round(error_test, 5)) +\n",
    "#              \" T_Accuracy: \" + str(round(accuracy_test, 3)) + \"%\")\n",
    "                \n"
   ]
  },
  {
   "cell_type": "code",
   "execution_count": 56,
   "metadata": {},
   "outputs": [
    {
     "data": {
      "image/png": "[encoded data removed]",
      "text/plain": [
       "<Figure size 432x288 with 1 Axes>"
      ]
     },
     "metadata": {
      "needs_background": "light"
     },
     "output_type": "display_data"
    }
   ],
   "source": [
    "plt.plot(training_errors)\n",
    "plt.plot(testing_errors)\n",
    "plt.xlabel('Epochs')\n",
    "plt.ylabel('Error')\n",
    "plt.show()"
   ]
  },
  {
   "cell_type": "code",
   "execution_count": 57,
   "metadata": {},
   "outputs": [
    {
     "data": {
      "image/png": "[encoded data removed]",
      "text/plain": [
       "<Figure size 432x288 with 1 Axes>"
      ]
     },
     "metadata": {
      "needs_background": "light"
     },
     "output_type": "display_data"
    }
   ],
   "source": [
    "plt.plot(training_accuracies)\n",
    "plt.plot(testing_accuracies)\n",
    "plt.xlabel('Epochs')\n",
    "plt.ylabel('Accuracy')\n",
    "plt.show()"
   ]
  }
 ],
 "metadata": {
  "kernelspec": {
   "display_name": "Python 3",
   "language": "python",
   "name": "python3"
  },
  "language_info": {
   "codemirror_mode": {
    "name": "ipython",
    "version": 3
   },
   "file_extension": ".py",
   "mimetype": "text/x-python",
   "name": "python",
   "nbconvert_exporter": "python",
   "pygments_lexer": "ipython3",
   "version": "3.7.3"
  }
 },
 "nbformat": 4,
 "nbformat_minor": 2
}
